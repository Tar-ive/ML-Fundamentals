{
  "cells": [
    {
      "cell_type": "markdown",
      "source": [
        "## ML Fundamentals with PyTorch - MNIST Digit Prediction"
      ],
      "metadata": {
        "id": "b-sSijf9jq2S"
      }
    },
    {
      "cell_type": "markdown",
      "source": [
        "As part of my journey to learn the fundamentals of machine learning, I did a project using the popular MNIST dataset. My goal was to build a neural network from scratch, train it to recognize handwritten digits with PyTorch. Here's a detailed account of what I did, step by step.\n",
        "\n",
        "\n"
      ],
      "metadata": {
        "id": "zl-YcCtRjzr3"
      }
    },
    {
      "cell_type": "markdown",
      "source": [
        "## Step 1: Imported Necessary Libraries\n",
        "The first step of my project was to assemble the tools needed for the task.  I imported the essential libraries that would help me build and train my neural network.  \n",
        "There are a lot of great videos on YT to do the same."
      ],
      "metadata": {
        "id": "Fefzzq4IkFcE"
      }
    },
    {
      "cell_type": "code",
      "execution_count": 1,
      "metadata": {
        "id": "qQmgoibnHavh"
      },
      "outputs": [],
      "source": [
        "from torch import nn\n",
        "from torch.optim import Adam\n",
        "from torch.nn import Module\n",
        "from torch.utils.data import DataLoader\n",
        "from torchvision.datasets import MNIST\n",
        "from torchvision.transforms import ToTensor"
      ]
    },
    {
      "cell_type": "code",
      "source": [
        "import torch\n",
        "import torchvision"
      ],
      "metadata": {
        "id": "ZNKm2OJsQ5Wl"
      },
      "execution_count": 2,
      "outputs": []
    },
    {
      "cell_type": "markdown",
      "source": [
        "## Step 2: Set Hyperparameters\n",
        "Setting the stage for training my model, I defined the hyperparameters. These values would guide the learning process, and I like doing this early because if I want to change any of this and run this model again I can just change it on the top and rerun all the cells."
      ],
      "metadata": {
        "id": "cxA2WMUpkYBw"
      }
    },
    {
      "cell_type": "code",
      "source": [
        "n_epochs = 3\n",
        "batch_size_train = 64\n",
        "batch_size_test = 1000\n",
        "learning_rate = 0.01\n",
        "momentum = 0.5\n",
        "log_interval = 10\n",
        "\n",
        "random_seed = 1\n",
        "torch.backends.cudnn.enabled = False\n",
        "torch.manual_seed(random_seed)"
      ],
      "metadata": {
        "colab": {
          "base_uri": "https://localhost:8080/"
        },
        "id": "PVzklW_CRGP7",
        "outputId": "e7fc7a48-999e-43ea-f5c7-01ab2c97c72f"
      },
      "execution_count": 3,
      "outputs": [
        {
          "output_type": "execute_result",
          "data": {
            "text/plain": [
              "<torch._C.Generator at 0x7995dc2240d0>"
            ]
          },
          "metadata": {},
          "execution_count": 3
        }
      ]
    },
    {
      "cell_type": "markdown",
      "source": [
        "## Step 3: Load the MNIST Dataset\n",
        "Then, I proceeded to load the MNIST dataset. This dataset of handwritten digits would be the foundation upon which my model would learn to recognize patterns.\n",
        "The download failed a few times but I think this was an error with the Datasets from PyTorch compared to the code itself.\n",
        "\n"
      ],
      "metadata": {
        "id": "UuwU_5MWkprD"
      }
    },
    {
      "cell_type": "code",
      "source": [
        "train_loader = torch.utils.data.DataLoader(\n",
        "  torchvision.datasets.MNIST('/files/', train=True, download=True,\n",
        "                             transform=torchvision.transforms.Compose([\n",
        "                               torchvision.transforms.ToTensor(),\n",
        "                               torchvision.transforms.Normalize(\n",
        "                                 (0.1307,), (0.3081,))\n",
        "                             ])),\n",
        "  batch_size=batch_size_train, shuffle=True)\n",
        "\n",
        "test_loader = torch.utils.data.DataLoader(\n",
        "  torchvision.datasets.MNIST('/files/', train=False, download=True,\n",
        "                             transform=torchvision.transforms.Compose([\n",
        "                               torchvision.transforms.ToTensor(),\n",
        "                               torchvision.transforms.Normalize(\n",
        "                                 (0.1307,), (0.3081,))\n",
        "                             ])),\n",
        "  batch_size=batch_size_test, shuffle=True)"
      ],
      "metadata": {
        "colab": {
          "base_uri": "https://localhost:8080/"
        },
        "id": "8Q_DwOsmRG61",
        "outputId": "1e609929-bf26-4ae1-f4f1-a362d0d2b149"
      },
      "execution_count": 4,
      "outputs": [
        {
          "output_type": "stream",
          "name": "stdout",
          "text": [
            "Downloading http://yann.lecun.com/exdb/mnist/train-images-idx3-ubyte.gz\n",
            "Failed to download (trying next):\n",
            "HTTP Error 403: Forbidden\n",
            "\n",
            "Downloading https://ossci-datasets.s3.amazonaws.com/mnist/train-images-idx3-ubyte.gz\n",
            "Downloading https://ossci-datasets.s3.amazonaws.com/mnist/train-images-idx3-ubyte.gz to /files/MNIST/raw/train-images-idx3-ubyte.gz\n"
          ]
        },
        {
          "output_type": "stream",
          "name": "stderr",
          "text": [
            "100%|██████████| 9912422/9912422 [00:01<00:00, 5044988.67it/s]\n"
          ]
        },
        {
          "output_type": "stream",
          "name": "stdout",
          "text": [
            "Extracting /files/MNIST/raw/train-images-idx3-ubyte.gz to /files/MNIST/raw\n",
            "\n",
            "Downloading http://yann.lecun.com/exdb/mnist/train-labels-idx1-ubyte.gz\n",
            "Failed to download (trying next):\n",
            "HTTP Error 403: Forbidden\n",
            "\n",
            "Downloading https://ossci-datasets.s3.amazonaws.com/mnist/train-labels-idx1-ubyte.gz\n",
            "Downloading https://ossci-datasets.s3.amazonaws.com/mnist/train-labels-idx1-ubyte.gz to /files/MNIST/raw/train-labels-idx1-ubyte.gz\n"
          ]
        },
        {
          "output_type": "stream",
          "name": "stderr",
          "text": [
            "100%|██████████| 28881/28881 [00:00<00:00, 134998.11it/s]\n"
          ]
        },
        {
          "output_type": "stream",
          "name": "stdout",
          "text": [
            "Extracting /files/MNIST/raw/train-labels-idx1-ubyte.gz to /files/MNIST/raw\n",
            "\n",
            "Downloading http://yann.lecun.com/exdb/mnist/t10k-images-idx3-ubyte.gz\n",
            "Failed to download (trying next):\n",
            "HTTP Error 403: Forbidden\n",
            "\n",
            "Downloading https://ossci-datasets.s3.amazonaws.com/mnist/t10k-images-idx3-ubyte.gz\n",
            "Downloading https://ossci-datasets.s3.amazonaws.com/mnist/t10k-images-idx3-ubyte.gz to /files/MNIST/raw/t10k-images-idx3-ubyte.gz\n"
          ]
        },
        {
          "output_type": "stream",
          "name": "stderr",
          "text": [
            "100%|██████████| 1648877/1648877 [00:01<00:00, 1094627.47it/s]\n"
          ]
        },
        {
          "output_type": "stream",
          "name": "stdout",
          "text": [
            "Extracting /files/MNIST/raw/t10k-images-idx3-ubyte.gz to /files/MNIST/raw\n",
            "\n",
            "Downloading http://yann.lecun.com/exdb/mnist/t10k-labels-idx1-ubyte.gz\n",
            "Failed to download (trying next):\n",
            "HTTP Error 403: Forbidden\n",
            "\n",
            "Downloading https://ossci-datasets.s3.amazonaws.com/mnist/t10k-labels-idx1-ubyte.gz\n",
            "Downloading https://ossci-datasets.s3.amazonaws.com/mnist/t10k-labels-idx1-ubyte.gz to /files/MNIST/raw/t10k-labels-idx1-ubyte.gz\n"
          ]
        },
        {
          "output_type": "stream",
          "name": "stderr",
          "text": [
            "100%|██████████| 4542/4542 [00:00<00:00, 11353116.07it/s]"
          ]
        },
        {
          "output_type": "stream",
          "name": "stdout",
          "text": [
            "Extracting /files/MNIST/raw/t10k-labels-idx1-ubyte.gz to /files/MNIST/raw\n",
            "\n"
          ]
        },
        {
          "output_type": "stream",
          "name": "stderr",
          "text": [
            "\n"
          ]
        }
      ]
    },
    {
      "cell_type": "markdown",
      "source": [
        "## Step 4: Visualize Sample Data\n",
        "Before diving into the training process, I took a moment to visualize some sample data. This step is to preview the material before diving into the task at hand.\n",
        "I like to get a feel for the data specially when it is a visual model. It just gives you a small step of reinforcement saying that I have done sth worthwhile."
      ],
      "metadata": {
        "id": "0u_aYx4RlD6R"
      }
    },
    {
      "cell_type": "code",
      "source": [
        "examples = enumerate(test_loader)\n",
        "batch_idx, (example_data, example_targets) = next(examples)"
      ],
      "metadata": {
        "id": "jebMAtAQRMiO"
      },
      "execution_count": 5,
      "outputs": []
    },
    {
      "cell_type": "code",
      "source": [
        "example_data.shape"
      ],
      "metadata": {
        "colab": {
          "base_uri": "https://localhost:8080/"
        },
        "id": "rASJLVbZRTGf",
        "outputId": "54d8db56-9d98-4286-ccff-fdeca39cf29b"
      },
      "execution_count": 6,
      "outputs": [
        {
          "output_type": "execute_result",
          "data": {
            "text/plain": [
              "torch.Size([1000, 1, 28, 28])"
            ]
          },
          "metadata": {},
          "execution_count": 6
        }
      ]
    },
    {
      "cell_type": "code",
      "source": [
        "import matplotlib.pyplot as plt\n",
        "\n",
        "fig = plt.figure()\n",
        "for i in range(6):\n",
        "  plt.subplot(2,3,i+1)\n",
        "  plt.tight_layout()\n",
        "  plt.imshow(example_data[i][0], cmap='gray', interpolation='none')\n",
        "  plt.title(\"Ground Truth: {}\".format(example_targets[i]))\n",
        "  plt.xticks([])\n",
        "  plt.yticks([])\n",
        "fig"
      ],
      "metadata": {
        "colab": {
          "base_uri": "https://localhost:8080/",
          "height": 859
        },
        "id": "xfUakGbWRVe2",
        "outputId": "a77fa316-c44a-46b0-851f-ee9a9d64df9d"
      },
      "execution_count": 7,
      "outputs": [
        {
          "output_type": "execute_result",
          "data": {
            "text/plain": [
              "<Figure size 640x480 with 6 Axes>"
            ],
            "image/png": "[encoded data removed]"
          },
          "metadata": {},
          "execution_count": 7
        },
        {
          "output_type": "display_data",
          "data": {
            "text/plain": [
              "<Figure size 640x480 with 6 Axes>"
            ],
            "image/png": "[encoded data removed]"
          },
          "metadata": {}
        }
      ]
    },
    {
      "cell_type": "markdown",
      "source": [
        "## Step 5: Define the Neural Network Architecture\n",
        "Next, I defined the architecture of my neural network. This was the blueprint that would determine how the network processes the data and learns to recognize digits.  \n",
        "This is the most important step in the whole model building process in my opinion after processing the data which is not needed when working with clean datasets like MNIST."
      ],
      "metadata": {
        "id": "hSYBn_DFlY67"
      }
    },
    {
      "cell_type": "code",
      "source": [
        "import torch.nn as nn\n",
        "import torch.nn.functional as F\n",
        "import torch.optim as optim"
      ],
      "metadata": {
        "id": "dgAA3HOgRYpi"
      },
      "execution_count": 8,
      "outputs": []
    },
    {
      "cell_type": "code",
      "source": [
        "class Net(nn.Module):\n",
        "    def __init__(self):\n",
        "        super(Net, self).__init__()\n",
        "        self.conv1 = nn.Conv2d(1, 10, kernel_size=5)\n",
        "        self.conv2 = nn.Conv2d(10, 20, kernel_size=5)\n",
        "        self.conv2_drop = nn.Dropout2d()\n",
        "        self.fc1 = nn.Linear(320, 50)\n",
        "        self.fc2 = nn.Linear(50, 10)\n",
        "\n",
        "    def forward(self, x):\n",
        "        x = F.relu(F.max_pool2d(self.conv1(x), 2))\n",
        "        x = F.relu(F.max_pool2d(self.conv2_drop(self.conv2(x)), 2))\n",
        "        x = x.view(-1, 320)\n",
        "        x = F.relu(self.fc1(x))\n",
        "        x = F.dropout(x, training=self.training)\n",
        "        x = self.fc2(x)\n",
        "        return F.log_softmax(x)"
      ],
      "metadata": {
        "id": "ikw0aE7qRdOK"
      },
      "execution_count": 9,
      "outputs": []
    },
    {
      "cell_type": "markdown",
      "source": [
        "## Step 6: Define the Optimizer and Loss Function\n",
        "To train the network, I defined the optimizer and loss function. These components would guide the network's learning process.\n",
        "\n",
        "A definition of optimizers and loss functions are:   \n",
        "They tie together the loss function and model parameters by updating the model in response to the output of the loss function. In simpler terms, *optimizers* shape and mold your model into its most accurate possible form by futzing with the weights.  \n",
        " The *loss function*  is the guide to the terrain, telling the optimizer when it’s moving in the right or wrong direction.\n",
        "\n",
        " Read an article here: https://ml-cheatsheet.readthedocs.io/en/latest/optimizers.html#:~:text=They%20tie%20together%20the%20loss,by%20futzing%20with%20the%20weights."
      ],
      "metadata": {
        "id": "9Tx0im7clu6X"
      }
    },
    {
      "cell_type": "code",
      "source": [
        "network = Net()\n",
        "optimizer = optim.SGD(network.parameters(), lr=learning_rate,\n",
        "                      momentum=momentum)"
      ],
      "metadata": {
        "id": "M_e6iWhaRejJ"
      },
      "execution_count": 10,
      "outputs": []
    },
    {
      "cell_type": "code",
      "source": [
        "train_losses = []\n",
        "train_counter = []\n",
        "test_losses = []\n",
        "test_counter = [i*len(train_loader.dataset) for i in range(n_epochs + 1)]"
      ],
      "metadata": {
        "id": "EoVYOkpCRi-n"
      },
      "execution_count": 11,
      "outputs": []
    },
    {
      "cell_type": "markdown",
      "source": [
        "## Step 7: Definining Training\n",
        "With everything in place, I began to define the training process. This step was the culmination of all the preparations, to get the model/network to learn from the data through a series of iterations."
      ],
      "metadata": {
        "id": "fyl0kynwmYwH"
      }
    },
    {
      "cell_type": "code",
      "source": [
        "def train(epoch):\n",
        "  network.train()\n",
        "  for batch_idx, (data, target) in enumerate(train_loader):\n",
        "    optimizer.zero_grad()\n",
        "    output = network(data)\n",
        "    loss = F.nll_loss(output, target)\n",
        "    loss.backward()\n",
        "    optimizer.step()\n",
        "    if batch_idx % log_interval == 0:\n",
        "      print('Train Epoch: {} [{}/{} ({:.0f}%)]\\tLoss: {:.6f}'.format(\n",
        "        epoch, batch_idx * len(data), len(train_loader.dataset),\n",
        "        100. * batch_idx / len(train_loader), loss.item()))\n",
        "      train_losses.append(loss.item())\n",
        "      train_counter.append(\n",
        "        (batch_idx*64) + ((epoch-1)*len(train_loader.dataset)))\n",
        "      torch.save(network.state_dict(), 'model.pth')\n",
        "      torch.save(optimizer.state_dict(), 'optimizer.pth')"
      ],
      "metadata": {
        "id": "8FL7VN-MRjoK"
      },
      "execution_count": 12,
      "outputs": []
    },
    {
      "cell_type": "markdown",
      "source": [
        "## Step 8: Defining the Model\n",
        "After defining training the model, I defined its testing. Most programs integrate the two but I like to build this iteratively."
      ],
      "metadata": {
        "id": "DLxdftILm6PV"
      }
    },
    {
      "cell_type": "code",
      "source": [
        "def test():\n",
        "  network.eval()\n",
        "  test_loss = 0\n",
        "  correct = 0\n",
        "  with torch.no_grad():\n",
        "    for data, target in test_loader:\n",
        "      output = network(data)\n",
        "      test_loss += F.nll_loss(output, target, size_average=False).item()\n",
        "      pred = output.data.max(1, keepdim=True)[1]\n",
        "      correct += pred.eq(target.data.view_as(pred)).sum()\n",
        "  test_loss /= len(test_loader.dataset)\n",
        "  test_losses.append(test_loss)\n",
        "  print('\\nTest set: Avg. loss: {:.4f}, Accuracy: {}/{} ({:.0f}%)\\n'.format(\n",
        "    test_loss, correct, len(test_loader.dataset),\n",
        "    100. * correct / len(test_loader.dataset)))"
      ],
      "metadata": {
        "id": "ZEbeVkjoRoIw"
      },
      "execution_count": 13,
      "outputs": []
    },
    {
      "cell_type": "markdown",
      "source": [
        "## Step 9: Putting the model in training mode\n",
        "In this step we put the model in training mode. As we can see the loss is pretty good which means the code is solid.  \n",
        "This step is optional but I like to do it as it gives me more control over my model. I can stop training the model here and change the architecure if the loss isn't good."
      ],
      "metadata": {
        "id": "84eY9zAFnZ_S"
      }
    },
    {
      "cell_type": "code",
      "source": [
        "test()\n",
        "for epoch in range(1, n_epochs + 1):\n",
        "  train(epoch)\n",
        "  test()"
      ],
      "metadata": {
        "colab": {
          "base_uri": "https://localhost:8080/"
        },
        "id": "shlLKFtKRquA",
        "outputId": "70456daa-157b-4430-d77e-69a0e5445fc8"
      },
      "execution_count": 14,
      "outputs": [
        {
          "output_type": "stream",
          "name": "stderr",
          "text": [
            "<ipython-input-9-6c2218f37724>:17: UserWarning: Implicit dimension choice for log_softmax has been deprecated. Change the call to include dim=X as an argument.\n",
            "  return F.log_softmax(x)\n",
            "/usr/local/lib/python3.10/dist-packages/torch/nn/_reduction.py:42: UserWarning: size_average and reduce args will be deprecated, please use reduction='sum' instead.\n",
            "  warnings.warn(warning.format(ret))\n"
          ]
        },
        {
          "output_type": "stream",
          "name": "stdout",
          "text": [
            "\n",
            "Test set: Avg. loss: 2.3096, Accuracy: 924/10000 (9%)\n",
            "\n",
            "Train Epoch: 1 [0/60000 (0%)]\tLoss: 2.313179\n",
            "Train Epoch: 1 [640/60000 (1%)]\tLoss: 2.300776\n",
            "Train Epoch: 1 [1280/60000 (2%)]\tLoss: 2.298872\n",
            "Train Epoch: 1 [1920/60000 (3%)]\tLoss: 2.276723\n",
            "Train Epoch: 1 [2560/60000 (4%)]\tLoss: 2.241102\n",
            "Train Epoch: 1 [3200/60000 (5%)]\tLoss: 2.248662\n",
            "Train Epoch: 1 [3840/60000 (6%)]\tLoss: 2.189547\n",
            "Train Epoch: 1 [4480/60000 (7%)]\tLoss: 2.146399\n",
            "Train Epoch: 1 [5120/60000 (9%)]\tLoss: 2.107701\n",
            "Train Epoch: 1 [5760/60000 (10%)]\tLoss: 2.011356\n",
            "Train Epoch: 1 [6400/60000 (11%)]\tLoss: 1.843857\n",
            "Train Epoch: 1 [7040/60000 (12%)]\tLoss: 1.758839\n",
            "Train Epoch: 1 [7680/60000 (13%)]\tLoss: 1.672644\n",
            "Train Epoch: 1 [8320/60000 (14%)]\tLoss: 1.687643\n",
            "Train Epoch: 1 [8960/60000 (15%)]\tLoss: 1.426571\n",
            "Train Epoch: 1 [9600/60000 (16%)]\tLoss: 1.284097\n",
            "Train Epoch: 1 [10240/60000 (17%)]\tLoss: 1.317448\n",
            "Train Epoch: 1 [10880/60000 (18%)]\tLoss: 1.448295\n",
            "Train Epoch: 1 [11520/60000 (19%)]\tLoss: 1.140931\n",
            "Train Epoch: 1 [12160/60000 (20%)]\tLoss: 1.151475\n",
            "Train Epoch: 1 [12800/60000 (21%)]\tLoss: 1.056880\n",
            "Train Epoch: 1 [13440/60000 (22%)]\tLoss: 0.900357\n",
            "Train Epoch: 1 [14080/60000 (23%)]\tLoss: 1.197161\n",
            "Train Epoch: 1 [14720/60000 (25%)]\tLoss: 0.942239\n",
            "Train Epoch: 1 [15360/60000 (26%)]\tLoss: 0.879607\n",
            "Train Epoch: 1 [16000/60000 (27%)]\tLoss: 0.848228\n",
            "Train Epoch: 1 [16640/60000 (28%)]\tLoss: 0.765058\n",
            "Train Epoch: 1 [17280/60000 (29%)]\tLoss: 0.760641\n",
            "Train Epoch: 1 [17920/60000 (30%)]\tLoss: 0.812058\n",
            "Train Epoch: 1 [18560/60000 (31%)]\tLoss: 0.891503\n",
            "Train Epoch: 1 [19200/60000 (32%)]\tLoss: 0.795310\n",
            "Train Epoch: 1 [19840/60000 (33%)]\tLoss: 0.900888\n",
            "Train Epoch: 1 [20480/60000 (34%)]\tLoss: 0.588767\n",
            "Train Epoch: 1 [21120/60000 (35%)]\tLoss: 0.688805\n",
            "Train Epoch: 1 [21760/60000 (36%)]\tLoss: 0.621357\n",
            "Train Epoch: 1 [22400/60000 (37%)]\tLoss: 0.767395\n",
            "Train Epoch: 1 [23040/60000 (38%)]\tLoss: 0.718328\n",
            "Train Epoch: 1 [23680/60000 (39%)]\tLoss: 0.640486\n",
            "Train Epoch: 1 [24320/60000 (41%)]\tLoss: 0.659994\n",
            "Train Epoch: 1 [24960/60000 (42%)]\tLoss: 0.819729\n",
            "Train Epoch: 1 [25600/60000 (43%)]\tLoss: 0.841922\n",
            "Train Epoch: 1 [26240/60000 (44%)]\tLoss: 0.618370\n",
            "Train Epoch: 1 [26880/60000 (45%)]\tLoss: 0.623662\n",
            "Train Epoch: 1 [27520/60000 (46%)]\tLoss: 0.682678\n",
            "Train Epoch: 1 [28160/60000 (47%)]\tLoss: 0.582968\n",
            "Train Epoch: 1 [28800/60000 (48%)]\tLoss: 0.550054\n",
            "Train Epoch: 1 [29440/60000 (49%)]\tLoss: 0.817783\n",
            "Train Epoch: 1 [30080/60000 (50%)]\tLoss: 0.746056\n",
            "Train Epoch: 1 [30720/60000 (51%)]\tLoss: 0.645516\n",
            "Train Epoch: 1 [31360/60000 (52%)]\tLoss: 0.645075\n",
            "Train Epoch: 1 [32000/60000 (53%)]\tLoss: 0.713754\n",
            "Train Epoch: 1 [32640/60000 (54%)]\tLoss: 0.447745\n",
            "Train Epoch: 1 [33280/60000 (55%)]\tLoss: 0.587853\n",
            "Train Epoch: 1 [33920/60000 (57%)]\tLoss: 0.573506\n",
            "Train Epoch: 1 [34560/60000 (58%)]\tLoss: 0.663835\n",
            "Train Epoch: 1 [35200/60000 (59%)]\tLoss: 0.572918\n",
            "Train Epoch: 1 [35840/60000 (60%)]\tLoss: 0.558527\n",
            "Train Epoch: 1 [36480/60000 (61%)]\tLoss: 0.631855\n",
            "Train Epoch: 1 [37120/60000 (62%)]\tLoss: 0.796230\n",
            "Train Epoch: 1 [37760/60000 (63%)]\tLoss: 0.575587\n",
            "Train Epoch: 1 [38400/60000 (64%)]\tLoss: 0.620046\n",
            "Train Epoch: 1 [39040/60000 (65%)]\tLoss: 0.523774\n",
            "Train Epoch: 1 [39680/60000 (66%)]\tLoss: 0.606870\n",
            "Train Epoch: 1 [40320/60000 (67%)]\tLoss: 0.315404\n",
            "Train Epoch: 1 [40960/60000 (68%)]\tLoss: 0.339243\n",
            "Train Epoch: 1 [41600/60000 (69%)]\tLoss: 0.385171\n",
            "Train Epoch: 1 [42240/60000 (70%)]\tLoss: 0.296562\n",
            "Train Epoch: 1 [42880/60000 (71%)]\tLoss: 0.426960\n",
            "Train Epoch: 1 [43520/60000 (72%)]\tLoss: 0.442094\n",
            "Train Epoch: 1 [44160/60000 (74%)]\tLoss: 0.457976\n",
            "Train Epoch: 1 [44800/60000 (75%)]\tLoss: 0.618605\n",
            "Train Epoch: 1 [45440/60000 (76%)]\tLoss: 0.536272\n",
            "Train Epoch: 1 [46080/60000 (77%)]\tLoss: 0.510908\n",
            "Train Epoch: 1 [46720/60000 (78%)]\tLoss: 0.385781\n",
            "Train Epoch: 1 [47360/60000 (79%)]\tLoss: 0.491250\n",
            "Train Epoch: 1 [48000/60000 (80%)]\tLoss: 0.542590\n",
            "Train Epoch: 1 [48640/60000 (81%)]\tLoss: 0.418211\n",
            "Train Epoch: 1 [49280/60000 (82%)]\tLoss: 0.368082\n",
            "Train Epoch: 1 [49920/60000 (83%)]\tLoss: 0.513364\n",
            "Train Epoch: 1 [50560/60000 (84%)]\tLoss: 0.427829\n",
            "Train Epoch: 1 [51200/60000 (85%)]\tLoss: 0.700661\n",
            "Train Epoch: 1 [51840/60000 (86%)]\tLoss: 0.507972\n",
            "Train Epoch: 1 [52480/60000 (87%)]\tLoss: 0.681858\n",
            "Train Epoch: 1 [53120/60000 (88%)]\tLoss: 0.542501\n",
            "Train Epoch: 1 [53760/60000 (90%)]\tLoss: 0.555682\n",
            "Train Epoch: 1 [54400/60000 (91%)]\tLoss: 0.652245\n",
            "Train Epoch: 1 [55040/60000 (92%)]\tLoss: 0.455755\n",
            "Train Epoch: 1 [55680/60000 (93%)]\tLoss: 0.538752\n",
            "Train Epoch: 1 [56320/60000 (94%)]\tLoss: 0.546533\n",
            "Train Epoch: 1 [56960/60000 (95%)]\tLoss: 0.358584\n",
            "Train Epoch: 1 [57600/60000 (96%)]\tLoss: 0.313923\n",
            "Train Epoch: 1 [58240/60000 (97%)]\tLoss: 0.309554\n",
            "Train Epoch: 1 [58880/60000 (98%)]\tLoss: 0.730500\n",
            "Train Epoch: 1 [59520/60000 (99%)]\tLoss: 0.390151\n",
            "\n",
            "Test set: Avg. loss: 0.1868, Accuracy: 9446/10000 (94%)\n",
            "\n",
            "Train Epoch: 2 [0/60000 (0%)]\tLoss: 0.462218\n",
            "Train Epoch: 2 [640/60000 (1%)]\tLoss: 0.467891\n",
            "Train Epoch: 2 [1280/60000 (2%)]\tLoss: 0.483331\n",
            "Train Epoch: 2 [1920/60000 (3%)]\tLoss: 0.522377\n",
            "Train Epoch: 2 [2560/60000 (4%)]\tLoss: 0.300186\n",
            "Train Epoch: 2 [3200/60000 (5%)]\tLoss: 0.170560\n",
            "Train Epoch: 2 [3840/60000 (6%)]\tLoss: 0.495864\n",
            "Train Epoch: 2 [4480/60000 (7%)]\tLoss: 0.412006\n",
            "Train Epoch: 2 [5120/60000 (9%)]\tLoss: 0.379947\n",
            "Train Epoch: 2 [5760/60000 (10%)]\tLoss: 0.647214\n",
            "Train Epoch: 2 [6400/60000 (11%)]\tLoss: 0.569882\n",
            "Train Epoch: 2 [7040/60000 (12%)]\tLoss: 0.304250\n",
            "Train Epoch: 2 [7680/60000 (13%)]\tLoss: 0.441597\n",
            "Train Epoch: 2 [8320/60000 (14%)]\tLoss: 0.638524\n",
            "Train Epoch: 2 [8960/60000 (15%)]\tLoss: 0.490525\n",
            "Train Epoch: 2 [9600/60000 (16%)]\tLoss: 0.449546\n",
            "Train Epoch: 2 [10240/60000 (17%)]\tLoss: 0.300892\n",
            "Train Epoch: 2 [10880/60000 (18%)]\tLoss: 0.499974\n",
            "Train Epoch: 2 [11520/60000 (19%)]\tLoss: 0.338480\n",
            "Train Epoch: 2 [12160/60000 (20%)]\tLoss: 0.335409\n",
            "Train Epoch: 2 [12800/60000 (21%)]\tLoss: 0.475276\n",
            "Train Epoch: 2 [13440/60000 (22%)]\tLoss: 0.480656\n",
            "Train Epoch: 2 [14080/60000 (23%)]\tLoss: 0.482568\n",
            "Train Epoch: 2 [14720/60000 (25%)]\tLoss: 0.372729\n",
            "Train Epoch: 2 [15360/60000 (26%)]\tLoss: 0.205010\n",
            "Train Epoch: 2 [16000/60000 (27%)]\tLoss: 0.239588\n",
            "Train Epoch: 2 [16640/60000 (28%)]\tLoss: 0.369053\n",
            "Train Epoch: 2 [17280/60000 (29%)]\tLoss: 0.437973\n",
            "Train Epoch: 2 [17920/60000 (30%)]\tLoss: 0.328516\n",
            "Train Epoch: 2 [18560/60000 (31%)]\tLoss: 0.334522\n",
            "Train Epoch: 2 [19200/60000 (32%)]\tLoss: 0.491459\n",
            "Train Epoch: 2 [19840/60000 (33%)]\tLoss: 0.340513\n",
            "Train Epoch: 2 [20480/60000 (34%)]\tLoss: 0.373849\n",
            "Train Epoch: 2 [21120/60000 (35%)]\tLoss: 0.365364\n",
            "Train Epoch: 2 [21760/60000 (36%)]\tLoss: 0.483238\n",
            "Train Epoch: 2 [22400/60000 (37%)]\tLoss: 0.617593\n",
            "Train Epoch: 2 [23040/60000 (38%)]\tLoss: 0.499029\n",
            "Train Epoch: 2 [23680/60000 (39%)]\tLoss: 0.347213\n",
            "Train Epoch: 2 [24320/60000 (41%)]\tLoss: 0.413480\n",
            "Train Epoch: 2 [24960/60000 (42%)]\tLoss: 0.212339\n",
            "Train Epoch: 2 [25600/60000 (43%)]\tLoss: 0.207072\n",
            "Train Epoch: 2 [26240/60000 (44%)]\tLoss: 0.402812\n",
            "Train Epoch: 2 [26880/60000 (45%)]\tLoss: 0.294252\n",
            "Train Epoch: 2 [27520/60000 (46%)]\tLoss: 0.221071\n",
            "Train Epoch: 2 [28160/60000 (47%)]\tLoss: 0.184881\n",
            "Train Epoch: 2 [28800/60000 (48%)]\tLoss: 0.255109\n",
            "Train Epoch: 2 [29440/60000 (49%)]\tLoss: 0.514992\n",
            "Train Epoch: 2 [30080/60000 (50%)]\tLoss: 0.299065\n",
            "Train Epoch: 2 [30720/60000 (51%)]\tLoss: 0.322359\n",
            "Train Epoch: 2 [31360/60000 (52%)]\tLoss: 0.446920\n",
            "Train Epoch: 2 [32000/60000 (53%)]\tLoss: 0.661918\n",
            "Train Epoch: 2 [32640/60000 (54%)]\tLoss: 0.300749\n",
            "Train Epoch: 2 [33280/60000 (55%)]\tLoss: 0.285369\n",
            "Train Epoch: 2 [33920/60000 (57%)]\tLoss: 0.424482\n",
            "Train Epoch: 2 [34560/60000 (58%)]\tLoss: 0.388756\n",
            "Train Epoch: 2 [35200/60000 (59%)]\tLoss: 0.410749\n",
            "Train Epoch: 2 [35840/60000 (60%)]\tLoss: 0.454641\n",
            "Train Epoch: 2 [36480/60000 (61%)]\tLoss: 0.346688\n",
            "Train Epoch: 2 [37120/60000 (62%)]\tLoss: 0.463672\n",
            "Train Epoch: 2 [37760/60000 (63%)]\tLoss: 0.431064\n",
            "Train Epoch: 2 [38400/60000 (64%)]\tLoss: 0.283384\n",
            "Train Epoch: 2 [39040/60000 (65%)]\tLoss: 0.195592\n",
            "Train Epoch: 2 [39680/60000 (66%)]\tLoss: 0.421967\n",
            "Train Epoch: 2 [40320/60000 (67%)]\tLoss: 0.190366\n",
            "Train Epoch: 2 [40960/60000 (68%)]\tLoss: 0.475274\n",
            "Train Epoch: 2 [41600/60000 (69%)]\tLoss: 0.139002\n",
            "Train Epoch: 2 [42240/60000 (70%)]\tLoss: 0.337363\n",
            "Train Epoch: 2 [42880/60000 (71%)]\tLoss: 0.499290\n",
            "Train Epoch: 2 [43520/60000 (72%)]\tLoss: 0.269176\n",
            "Train Epoch: 2 [44160/60000 (74%)]\tLoss: 0.404460\n",
            "Train Epoch: 2 [44800/60000 (75%)]\tLoss: 0.220318\n",
            "Train Epoch: 2 [45440/60000 (76%)]\tLoss: 0.495776\n",
            "Train Epoch: 2 [46080/60000 (77%)]\tLoss: 0.277032\n",
            "Train Epoch: 2 [46720/60000 (78%)]\tLoss: 0.285577\n",
            "Train Epoch: 2 [47360/60000 (79%)]\tLoss: 0.200010\n",
            "Train Epoch: 2 [48000/60000 (80%)]\tLoss: 0.263712\n",
            "Train Epoch: 2 [48640/60000 (81%)]\tLoss: 0.365653\n",
            "Train Epoch: 2 [49280/60000 (82%)]\tLoss: 0.457113\n",
            "Train Epoch: 2 [49920/60000 (83%)]\tLoss: 0.275465\n",
            "Train Epoch: 2 [50560/60000 (84%)]\tLoss: 0.317093\n",
            "Train Epoch: 2 [51200/60000 (85%)]\tLoss: 0.421382\n",
            "Train Epoch: 2 [51840/60000 (86%)]\tLoss: 0.312265\n",
            "Train Epoch: 2 [52480/60000 (87%)]\tLoss: 0.339989\n",
            "Train Epoch: 2 [53120/60000 (88%)]\tLoss: 0.258145\n",
            "Train Epoch: 2 [53760/60000 (90%)]\tLoss: 0.246860\n",
            "Train Epoch: 2 [54400/60000 (91%)]\tLoss: 0.196642\n",
            "Train Epoch: 2 [55040/60000 (92%)]\tLoss: 0.484302\n",
            "Train Epoch: 2 [55680/60000 (93%)]\tLoss: 0.190883\n",
            "Train Epoch: 2 [56320/60000 (94%)]\tLoss: 0.386244\n",
            "Train Epoch: 2 [56960/60000 (95%)]\tLoss: 0.235545\n",
            "Train Epoch: 2 [57600/60000 (96%)]\tLoss: 0.574089\n",
            "Train Epoch: 2 [58240/60000 (97%)]\tLoss: 0.473843\n",
            "Train Epoch: 2 [58880/60000 (98%)]\tLoss: 0.274681\n",
            "Train Epoch: 2 [59520/60000 (99%)]\tLoss: 0.290411\n",
            "\n",
            "Test set: Avg. loss: 0.1157, Accuracy: 9631/10000 (96%)\n",
            "\n",
            "Train Epoch: 3 [0/60000 (0%)]\tLoss: 0.202446\n",
            "Train Epoch: 3 [640/60000 (1%)]\tLoss: 0.237713\n",
            "Train Epoch: 3 [1280/60000 (2%)]\tLoss: 0.389225\n",
            "Train Epoch: 3 [1920/60000 (3%)]\tLoss: 0.244909\n",
            "Train Epoch: 3 [2560/60000 (4%)]\tLoss: 0.263912\n",
            "Train Epoch: 3 [3200/60000 (5%)]\tLoss: 0.306603\n",
            "Train Epoch: 3 [3840/60000 (6%)]\tLoss: 0.278504\n",
            "Train Epoch: 3 [4480/60000 (7%)]\tLoss: 0.496455\n",
            "Train Epoch: 3 [5120/60000 (9%)]\tLoss: 0.484972\n",
            "Train Epoch: 3 [5760/60000 (10%)]\tLoss: 0.420395\n",
            "Train Epoch: 3 [6400/60000 (11%)]\tLoss: 0.321645\n",
            "Train Epoch: 3 [7040/60000 (12%)]\tLoss: 0.366944\n",
            "Train Epoch: 3 [7680/60000 (13%)]\tLoss: 0.252324\n",
            "Train Epoch: 3 [8320/60000 (14%)]\tLoss: 0.164157\n",
            "Train Epoch: 3 [8960/60000 (15%)]\tLoss: 0.263021\n",
            "Train Epoch: 3 [9600/60000 (16%)]\tLoss: 0.245143\n",
            "Train Epoch: 3 [10240/60000 (17%)]\tLoss: 0.280745\n",
            "Train Epoch: 3 [10880/60000 (18%)]\tLoss: 0.289375\n",
            "Train Epoch: 3 [11520/60000 (19%)]\tLoss: 0.430402\n",
            "Train Epoch: 3 [12160/60000 (20%)]\tLoss: 0.216753\n",
            "Train Epoch: 3 [12800/60000 (21%)]\tLoss: 0.463751\n",
            "Train Epoch: 3 [13440/60000 (22%)]\tLoss: 0.342339\n",
            "Train Epoch: 3 [14080/60000 (23%)]\tLoss: 0.357801\n",
            "Train Epoch: 3 [14720/60000 (25%)]\tLoss: 0.315287\n",
            "Train Epoch: 3 [15360/60000 (26%)]\tLoss: 0.318361\n",
            "Train Epoch: 3 [16000/60000 (27%)]\tLoss: 0.798274\n",
            "Train Epoch: 3 [16640/60000 (28%)]\tLoss: 0.530142\n",
            "Train Epoch: 3 [17280/60000 (29%)]\tLoss: 0.428675\n",
            "Train Epoch: 3 [17920/60000 (30%)]\tLoss: 0.312447\n",
            "Train Epoch: 3 [18560/60000 (31%)]\tLoss: 0.317123\n",
            "Train Epoch: 3 [19200/60000 (32%)]\tLoss: 0.360292\n",
            "Train Epoch: 3 [19840/60000 (33%)]\tLoss: 0.362531\n",
            "Train Epoch: 3 [20480/60000 (34%)]\tLoss: 0.183675\n",
            "Train Epoch: 3 [21120/60000 (35%)]\tLoss: 0.177350\n",
            "Train Epoch: 3 [21760/60000 (36%)]\tLoss: 0.309593\n",
            "Train Epoch: 3 [22400/60000 (37%)]\tLoss: 0.216559\n",
            "Train Epoch: 3 [23040/60000 (38%)]\tLoss: 0.450213\n",
            "Train Epoch: 3 [23680/60000 (39%)]\tLoss: 0.196756\n",
            "Train Epoch: 3 [24320/60000 (41%)]\tLoss: 0.240156\n",
            "Train Epoch: 3 [24960/60000 (42%)]\tLoss: 0.178259\n",
            "Train Epoch: 3 [25600/60000 (43%)]\tLoss: 0.394427\n",
            "Train Epoch: 3 [26240/60000 (44%)]\tLoss: 0.203476\n",
            "Train Epoch: 3 [26880/60000 (45%)]\tLoss: 0.189221\n",
            "Train Epoch: 3 [27520/60000 (46%)]\tLoss: 0.211682\n",
            "Train Epoch: 3 [28160/60000 (47%)]\tLoss: 0.372460\n",
            "Train Epoch: 3 [28800/60000 (48%)]\tLoss: 0.481037\n",
            "Train Epoch: 3 [29440/60000 (49%)]\tLoss: 0.157177\n",
            "Train Epoch: 3 [30080/60000 (50%)]\tLoss: 0.297829\n",
            "Train Epoch: 3 [30720/60000 (51%)]\tLoss: 0.239990\n",
            "Train Epoch: 3 [31360/60000 (52%)]\tLoss: 0.228143\n",
            "Train Epoch: 3 [32000/60000 (53%)]\tLoss: 0.455538\n",
            "Train Epoch: 3 [32640/60000 (54%)]\tLoss: 0.338176\n",
            "Train Epoch: 3 [33280/60000 (55%)]\tLoss: 0.176667\n",
            "Train Epoch: 3 [33920/60000 (57%)]\tLoss: 0.453321\n",
            "Train Epoch: 3 [34560/60000 (58%)]\tLoss: 0.247250\n",
            "Train Epoch: 3 [35200/60000 (59%)]\tLoss: 0.301854\n",
            "Train Epoch: 3 [35840/60000 (60%)]\tLoss: 0.493053\n",
            "Train Epoch: 3 [36480/60000 (61%)]\tLoss: 0.188783\n",
            "Train Epoch: 3 [37120/60000 (62%)]\tLoss: 0.216590\n",
            "Train Epoch: 3 [37760/60000 (63%)]\tLoss: 0.335645\n",
            "Train Epoch: 3 [38400/60000 (64%)]\tLoss: 0.444037\n",
            "Train Epoch: 3 [39040/60000 (65%)]\tLoss: 0.356260\n",
            "Train Epoch: 3 [39680/60000 (66%)]\tLoss: 0.206120\n",
            "Train Epoch: 3 [40320/60000 (67%)]\tLoss: 0.248065\n",
            "Train Epoch: 3 [40960/60000 (68%)]\tLoss: 0.439353\n",
            "Train Epoch: 3 [41600/60000 (69%)]\tLoss: 0.331822\n",
            "Train Epoch: 3 [42240/60000 (70%)]\tLoss: 0.357008\n",
            "Train Epoch: 3 [42880/60000 (71%)]\tLoss: 0.184928\n",
            "Train Epoch: 3 [43520/60000 (72%)]\tLoss: 0.233006\n",
            "Train Epoch: 3 [44160/60000 (74%)]\tLoss: 0.298251\n",
            "Train Epoch: 3 [44800/60000 (75%)]\tLoss: 0.188964\n",
            "Train Epoch: 3 [45440/60000 (76%)]\tLoss: 0.238322\n",
            "Train Epoch: 3 [46080/60000 (77%)]\tLoss: 0.349012\n",
            "Train Epoch: 3 [46720/60000 (78%)]\tLoss: 0.191735\n",
            "Train Epoch: 3 [47360/60000 (79%)]\tLoss: 0.371901\n",
            "Train Epoch: 3 [48000/60000 (80%)]\tLoss: 0.341065\n",
            "Train Epoch: 3 [48640/60000 (81%)]\tLoss: 0.221092\n",
            "Train Epoch: 3 [49280/60000 (82%)]\tLoss: 0.236351\n",
            "Train Epoch: 3 [49920/60000 (83%)]\tLoss: 0.508199\n",
            "Train Epoch: 3 [50560/60000 (84%)]\tLoss: 0.398122\n",
            "Train Epoch: 3 [51200/60000 (85%)]\tLoss: 0.410267\n",
            "Train Epoch: 3 [51840/60000 (86%)]\tLoss: 0.230479\n",
            "Train Epoch: 3 [52480/60000 (87%)]\tLoss: 0.508451\n",
            "Train Epoch: 3 [53120/60000 (88%)]\tLoss: 0.207513\n",
            "Train Epoch: 3 [53760/60000 (90%)]\tLoss: 0.168872\n",
            "Train Epoch: 3 [54400/60000 (91%)]\tLoss: 0.388979\n",
            "Train Epoch: 3 [55040/60000 (92%)]\tLoss: 0.311974\n",
            "Train Epoch: 3 [55680/60000 (93%)]\tLoss: 0.167299\n",
            "Train Epoch: 3 [56320/60000 (94%)]\tLoss: 0.297424\n",
            "Train Epoch: 3 [56960/60000 (95%)]\tLoss: 0.335257\n",
            "Train Epoch: 3 [57600/60000 (96%)]\tLoss: 0.515494\n",
            "Train Epoch: 3 [58240/60000 (97%)]\tLoss: 0.379855\n",
            "Train Epoch: 3 [58880/60000 (98%)]\tLoss: 0.115902\n",
            "Train Epoch: 3 [59520/60000 (99%)]\tLoss: 0.313011\n",
            "\n",
            "Test set: Avg. loss: 0.0974, Accuracy: 9683/10000 (97%)\n",
            "\n"
          ]
        }
      ]
    },
    {
      "cell_type": "code",
      "source": [
        "fig = plt.figure()\n",
        "plt.plot(train_counter, train_losses, color='blue')\n",
        "plt.scatter(test_counter, test_losses, color='red')\n",
        "plt.legend(['Train Loss', 'Test Loss'], loc='upper right')\n",
        "plt.xlabel('number of training examples seen')\n",
        "plt.ylabel('negative log likelihood loss')\n",
        "fig\n"
      ],
      "metadata": {
        "colab": {
          "base_uri": "https://localhost:8080/",
          "height": 881
        },
        "id": "nSPPgw_ZR0yk",
        "outputId": "137c0729-1ae5-4498-e63e-80fc7ced3ffe"
      },
      "execution_count": 15,
      "outputs": [
        {
          "output_type": "execute_result",
          "data": {
            "text/plain": [
              "<Figure size 640x480 with 1 Axes>"
            ],
            "image/png": "[encoded data removed]"
          },
          "metadata": {},
          "execution_count": 15
        },
        {
          "output_type": "display_data",
          "data": {
            "text/plain": [
              "<Figure size 640x480 with 1 Axes>"
            ],
            "image/png": "[encoded data removed]"
          },
          "metadata": {}
        }
      ]
    },
    {
      "cell_type": "markdown",
      "source": [
        "## Step 10 : Judging on the example data\n",
        "We check to see how the model performs on the example data. This informs if we should go back and change the architecture or continue training the model."
      ],
      "metadata": {
        "id": "JKBL6xHsoJBl"
      }
    },
    {
      "cell_type": "code",
      "source": [
        "with torch.no_grad():\n",
        "  output = network(example_data)"
      ],
      "metadata": {
        "colab": {
          "base_uri": "https://localhost:8080/"
        },
        "id": "CKNbeQe6SEMr",
        "outputId": "7f4099b8-6445-408b-c31a-07e87a9aedb1"
      },
      "execution_count": 16,
      "outputs": [
        {
          "output_type": "stream",
          "name": "stderr",
          "text": [
            "<ipython-input-9-6c2218f37724>:17: UserWarning: Implicit dimension choice for log_softmax has been deprecated. Change the call to include dim=X as an argument.\n",
            "  return F.log_softmax(x)\n"
          ]
        }
      ]
    },
    {
      "cell_type": "code",
      "source": [
        "fig = plt.figure()\n",
        "for i in range(6):\n",
        "  plt.subplot(2,3,i+1)\n",
        "  plt.tight_layout()\n",
        "  plt.imshow(example_data[i][0], cmap='gray', interpolation='none')\n",
        "  plt.title(\"Prediction: {}\".format(\n",
        "    output.data.max(1, keepdim=True)[1][i].item()))\n",
        "  plt.xticks([])\n",
        "  plt.yticks([])\n",
        "fig"
      ],
      "metadata": {
        "colab": {
          "base_uri": "https://localhost:8080/",
          "height": 859
        },
        "id": "H_opTHleSIdO",
        "outputId": "b8865131-24ce-42e4-e480-4559ee789912"
      },
      "execution_count": 17,
      "outputs": [
        {
          "output_type": "execute_result",
          "data": {
            "text/plain": [
              "<Figure size 640x480 with 6 Axes>"
            ],
            "image/png": "[encoded data removed]"
          },
          "metadata": {},
          "execution_count": 17
        },
        {
          "output_type": "display_data",
          "data": {
            "text/plain": [
              "<Figure size 640x480 with 6 Axes>"
            ],
            "image/png": "[encoded data removed]"
          },
          "metadata": {}
        }
      ]
    },
    {
      "cell_type": "markdown",
      "source": [
        "## Step 11: Creating an Optimizer and Model Saving Path\n",
        "As we can see the model is doing good on the example data. This means we can save this model and the optimizer and later ammend it as we train more."
      ],
      "metadata": {
        "id": "rQFYrAXqoZ4q"
      }
    },
    {
      "cell_type": "code",
      "source": [
        "continued_network = Net()\n",
        "continued_optimizer = optim.SGD(network.parameters(), lr=learning_rate,\n",
        "                                momentum=momentum)"
      ],
      "metadata": {
        "id": "x8URKLMASMKe"
      },
      "execution_count": 18,
      "outputs": []
    },
    {
      "cell_type": "code",
      "source": [
        "# Provide the path to the saved state dictionaries\n",
        "network_state_dict = torch.load('model.pth')  # Replace with actual path\n",
        "continued_network.load_state_dict(network_state_dict)\n",
        "\n",
        "optimizer_state_dict = torch.load('optimizer.pth')  # Replace with actual path\n",
        "continued_optimizer.load_state_dict(optimizer_state_dict)"
      ],
      "metadata": {
        "id": "tynbLKEUSOYP"
      },
      "execution_count": 19,
      "outputs": []
    },
    {
      "cell_type": "markdown",
      "source": [
        "## Step 12: Training and Testing the Model\n",
        "Here we train and test the model."
      ],
      "metadata": {
        "id": "EghINfAvox81"
      }
    },
    {
      "cell_type": "code",
      "source": [
        "for i in range(4,9):\n",
        "  test_counter.append(i*len(train_loader.dataset))\n",
        "  train(i)\n",
        "  test()"
      ],
      "metadata": {
        "colab": {
          "base_uri": "https://localhost:8080/"
        },
        "id": "uz0SShWPSf4b",
        "outputId": "3936acaa-3db7-4b2d-e2a0-1d215fe7faca"
      },
      "execution_count": 20,
      "outputs": [
        {
          "output_type": "stream",
          "name": "stderr",
          "text": [
            "<ipython-input-9-6c2218f37724>:17: UserWarning: Implicit dimension choice for log_softmax has been deprecated. Change the call to include dim=X as an argument.\n",
            "  return F.log_softmax(x)\n"
          ]
        },
        {
          "output_type": "stream",
          "name": "stdout",
          "text": [
            "Train Epoch: 4 [0/60000 (0%)]\tLoss: 0.189322\n",
            "Train Epoch: 4 [640/60000 (1%)]\tLoss: 0.366189\n",
            "Train Epoch: 4 [1280/60000 (2%)]\tLoss: 0.343270\n",
            "Train Epoch: 4 [1920/60000 (3%)]\tLoss: 0.374212\n",
            "Train Epoch: 4 [2560/60000 (4%)]\tLoss: 0.499028\n",
            "Train Epoch: 4 [3200/60000 (5%)]\tLoss: 0.149994\n",
            "Train Epoch: 4 [3840/60000 (6%)]\tLoss: 0.267188\n",
            "Train Epoch: 4 [4480/60000 (7%)]\tLoss: 0.309622\n",
            "Train Epoch: 4 [5120/60000 (9%)]\tLoss: 0.155924\n",
            "Train Epoch: 4 [5760/60000 (10%)]\tLoss: 0.197287\n",
            "Train Epoch: 4 [6400/60000 (11%)]\tLoss: 0.161895\n",
            "Train Epoch: 4 [7040/60000 (12%)]\tLoss: 0.142287\n",
            "Train Epoch: 4 [7680/60000 (13%)]\tLoss: 0.218711\n",
            "Train Epoch: 4 [8320/60000 (14%)]\tLoss: 0.402981\n",
            "Train Epoch: 4 [8960/60000 (15%)]\tLoss: 0.447489\n",
            "Train Epoch: 4 [9600/60000 (16%)]\tLoss: 0.155473\n",
            "Train Epoch: 4 [10240/60000 (17%)]\tLoss: 0.159139\n",
            "Train Epoch: 4 [10880/60000 (18%)]\tLoss: 0.461045\n",
            "Train Epoch: 4 [11520/60000 (19%)]\tLoss: 0.137765\n",
            "Train Epoch: 4 [12160/60000 (20%)]\tLoss: 0.245168\n",
            "Train Epoch: 4 [12800/60000 (21%)]\tLoss: 0.320114\n",
            "Train Epoch: 4 [13440/60000 (22%)]\tLoss: 0.240358\n",
            "Train Epoch: 4 [14080/60000 (23%)]\tLoss: 0.318144\n",
            "Train Epoch: 4 [14720/60000 (25%)]\tLoss: 0.315489\n",
            "Train Epoch: 4 [15360/60000 (26%)]\tLoss: 0.132931\n",
            "Train Epoch: 4 [16000/60000 (27%)]\tLoss: 0.145864\n",
            "Train Epoch: 4 [16640/60000 (28%)]\tLoss: 0.197429\n",
            "Train Epoch: 4 [17280/60000 (29%)]\tLoss: 0.225798\n",
            "Train Epoch: 4 [17920/60000 (30%)]\tLoss: 0.395759\n",
            "Train Epoch: 4 [18560/60000 (31%)]\tLoss: 0.277015\n",
            "Train Epoch: 4 [19200/60000 (32%)]\tLoss: 0.315396\n",
            "Train Epoch: 4 [19840/60000 (33%)]\tLoss: 0.420587\n",
            "Train Epoch: 4 [20480/60000 (34%)]\tLoss: 0.198793\n",
            "Train Epoch: 4 [21120/60000 (35%)]\tLoss: 0.359285\n",
            "Train Epoch: 4 [21760/60000 (36%)]\tLoss: 0.057303\n",
            "Train Epoch: 4 [22400/60000 (37%)]\tLoss: 0.232600\n",
            "Train Epoch: 4 [23040/60000 (38%)]\tLoss: 0.278695\n",
            "Train Epoch: 4 [23680/60000 (39%)]\tLoss: 0.282765\n",
            "Train Epoch: 4 [24320/60000 (41%)]\tLoss: 0.160431\n",
            "Train Epoch: 4 [24960/60000 (42%)]\tLoss: 0.171313\n",
            "Train Epoch: 4 [25600/60000 (43%)]\tLoss: 0.374120\n",
            "Train Epoch: 4 [26240/60000 (44%)]\tLoss: 0.216094\n",
            "Train Epoch: 4 [26880/60000 (45%)]\tLoss: 0.351991\n",
            "Train Epoch: 4 [27520/60000 (46%)]\tLoss: 0.148568\n",
            "Train Epoch: 4 [28160/60000 (47%)]\tLoss: 0.326846\n",
            "Train Epoch: 4 [28800/60000 (48%)]\tLoss: 0.230289\n",
            "Train Epoch: 4 [29440/60000 (49%)]\tLoss: 0.201064\n",
            "Train Epoch: 4 [30080/60000 (50%)]\tLoss: 0.172084\n",
            "Train Epoch: 4 [30720/60000 (51%)]\tLoss: 0.192537\n",
            "Train Epoch: 4 [31360/60000 (52%)]\tLoss: 0.111315\n",
            "Train Epoch: 4 [32000/60000 (53%)]\tLoss: 0.212992\n",
            "Train Epoch: 4 [32640/60000 (54%)]\tLoss: 0.269495\n",
            "Train Epoch: 4 [33280/60000 (55%)]\tLoss: 0.202243\n",
            "Train Epoch: 4 [33920/60000 (57%)]\tLoss: 0.417891\n",
            "Train Epoch: 4 [34560/60000 (58%)]\tLoss: 0.214966\n",
            "Train Epoch: 4 [35200/60000 (59%)]\tLoss: 0.140465\n",
            "Train Epoch: 4 [35840/60000 (60%)]\tLoss: 0.259248\n",
            "Train Epoch: 4 [36480/60000 (61%)]\tLoss: 0.147689\n",
            "Train Epoch: 4 [37120/60000 (62%)]\tLoss: 0.204775\n",
            "Train Epoch: 4 [37760/60000 (63%)]\tLoss: 0.295360\n",
            "Train Epoch: 4 [38400/60000 (64%)]\tLoss: 0.187568\n",
            "Train Epoch: 4 [39040/60000 (65%)]\tLoss: 0.130764\n",
            "Train Epoch: 4 [39680/60000 (66%)]\tLoss: 0.197600\n",
            "Train Epoch: 4 [40320/60000 (67%)]\tLoss: 0.342730\n",
            "Train Epoch: 4 [40960/60000 (68%)]\tLoss: 0.210347\n",
            "Train Epoch: 4 [41600/60000 (69%)]\tLoss: 0.124679\n",
            "Train Epoch: 4 [42240/60000 (70%)]\tLoss: 0.294724\n",
            "Train Epoch: 4 [42880/60000 (71%)]\tLoss: 0.292837\n",
            "Train Epoch: 4 [43520/60000 (72%)]\tLoss: 0.272993\n",
            "Train Epoch: 4 [44160/60000 (74%)]\tLoss: 0.314849\n",
            "Train Epoch: 4 [44800/60000 (75%)]\tLoss: 0.290431\n",
            "Train Epoch: 4 [45440/60000 (76%)]\tLoss: 0.191499\n",
            "Train Epoch: 4 [46080/60000 (77%)]\tLoss: 0.179237\n",
            "Train Epoch: 4 [46720/60000 (78%)]\tLoss: 0.312480\n",
            "Train Epoch: 4 [47360/60000 (79%)]\tLoss: 0.133954\n",
            "Train Epoch: 4 [48000/60000 (80%)]\tLoss: 0.277956\n",
            "Train Epoch: 4 [48640/60000 (81%)]\tLoss: 0.368053\n",
            "Train Epoch: 4 [49280/60000 (82%)]\tLoss: 0.178584\n",
            "Train Epoch: 4 [49920/60000 (83%)]\tLoss: 0.289980\n",
            "Train Epoch: 4 [50560/60000 (84%)]\tLoss: 0.214791\n",
            "Train Epoch: 4 [51200/60000 (85%)]\tLoss: 0.339532\n",
            "Train Epoch: 4 [51840/60000 (86%)]\tLoss: 0.268207\n",
            "Train Epoch: 4 [52480/60000 (87%)]\tLoss: 0.138063\n",
            "Train Epoch: 4 [53120/60000 (88%)]\tLoss: 0.277833\n",
            "Train Epoch: 4 [53760/60000 (90%)]\tLoss: 0.276999\n",
            "Train Epoch: 4 [54400/60000 (91%)]\tLoss: 0.305013\n",
            "Train Epoch: 4 [55040/60000 (92%)]\tLoss: 0.318879\n",
            "Train Epoch: 4 [55680/60000 (93%)]\tLoss: 0.318723\n",
            "Train Epoch: 4 [56320/60000 (94%)]\tLoss: 0.225488\n",
            "Train Epoch: 4 [56960/60000 (95%)]\tLoss: 0.222798\n",
            "Train Epoch: 4 [57600/60000 (96%)]\tLoss: 0.190798\n",
            "Train Epoch: 4 [58240/60000 (97%)]\tLoss: 0.196226\n",
            "Train Epoch: 4 [58880/60000 (98%)]\tLoss: 0.288766\n",
            "Train Epoch: 4 [59520/60000 (99%)]\tLoss: 0.243796\n",
            "\n",
            "Test set: Avg. loss: 0.0807, Accuracy: 9741/10000 (97%)\n",
            "\n",
            "Train Epoch: 5 [0/60000 (0%)]\tLoss: 0.718385\n",
            "Train Epoch: 5 [640/60000 (1%)]\tLoss: 0.251528\n",
            "Train Epoch: 5 [1280/60000 (2%)]\tLoss: 0.436424\n",
            "Train Epoch: 5 [1920/60000 (3%)]\tLoss: 0.285406\n",
            "Train Epoch: 5 [2560/60000 (4%)]\tLoss: 0.113235\n",
            "Train Epoch: 5 [3200/60000 (5%)]\tLoss: 0.234333\n",
            "Train Epoch: 5 [3840/60000 (6%)]\tLoss: 0.197884\n",
            "Train Epoch: 5 [4480/60000 (7%)]\tLoss: 0.187500\n",
            "Train Epoch: 5 [5120/60000 (9%)]\tLoss: 0.164573\n",
            "Train Epoch: 5 [5760/60000 (10%)]\tLoss: 0.261004\n",
            "Train Epoch: 5 [6400/60000 (11%)]\tLoss: 0.216403\n",
            "Train Epoch: 5 [7040/60000 (12%)]\tLoss: 0.230682\n",
            "Train Epoch: 5 [7680/60000 (13%)]\tLoss: 0.144820\n",
            "Train Epoch: 5 [8320/60000 (14%)]\tLoss: 0.206334\n",
            "Train Epoch: 5 [8960/60000 (15%)]\tLoss: 0.205649\n",
            "Train Epoch: 5 [9600/60000 (16%)]\tLoss: 0.383113\n",
            "Train Epoch: 5 [10240/60000 (17%)]\tLoss: 0.412967\n",
            "Train Epoch: 5 [10880/60000 (18%)]\tLoss: 0.404930\n",
            "Train Epoch: 5 [11520/60000 (19%)]\tLoss: 0.230131\n",
            "Train Epoch: 5 [12160/60000 (20%)]\tLoss: 0.099632\n",
            "Train Epoch: 5 [12800/60000 (21%)]\tLoss: 0.299416\n",
            "Train Epoch: 5 [13440/60000 (22%)]\tLoss: 0.294119\n",
            "Train Epoch: 5 [14080/60000 (23%)]\tLoss: 0.191310\n",
            "Train Epoch: 5 [14720/60000 (25%)]\tLoss: 0.225575\n",
            "Train Epoch: 5 [15360/60000 (26%)]\tLoss: 0.125701\n",
            "Train Epoch: 5 [16000/60000 (27%)]\tLoss: 0.187600\n",
            "Train Epoch: 5 [16640/60000 (28%)]\tLoss: 0.318850\n",
            "Train Epoch: 5 [17280/60000 (29%)]\tLoss: 0.160169\n",
            "Train Epoch: 5 [17920/60000 (30%)]\tLoss: 0.212974\n",
            "Train Epoch: 5 [18560/60000 (31%)]\tLoss: 0.078373\n",
            "Train Epoch: 5 [19200/60000 (32%)]\tLoss: 0.227772\n",
            "Train Epoch: 5 [19840/60000 (33%)]\tLoss: 0.285278\n",
            "Train Epoch: 5 [20480/60000 (34%)]\tLoss: 0.151393\n",
            "Train Epoch: 5 [21120/60000 (35%)]\tLoss: 0.301662\n",
            "Train Epoch: 5 [21760/60000 (36%)]\tLoss: 0.273844\n",
            "Train Epoch: 5 [22400/60000 (37%)]\tLoss: 0.100727\n",
            "Train Epoch: 5 [23040/60000 (38%)]\tLoss: 0.303205\n",
            "Train Epoch: 5 [23680/60000 (39%)]\tLoss: 0.148738\n",
            "Train Epoch: 5 [24320/60000 (41%)]\tLoss: 0.098107\n",
            "Train Epoch: 5 [24960/60000 (42%)]\tLoss: 0.273512\n",
            "Train Epoch: 5 [25600/60000 (43%)]\tLoss: 0.105978\n",
            "Train Epoch: 5 [26240/60000 (44%)]\tLoss: 0.179695\n",
            "Train Epoch: 5 [26880/60000 (45%)]\tLoss: 0.323627\n",
            "Train Epoch: 5 [27520/60000 (46%)]\tLoss: 0.204974\n",
            "Train Epoch: 5 [28160/60000 (47%)]\tLoss: 0.120342\n",
            "Train Epoch: 5 [28800/60000 (48%)]\tLoss: 0.155982\n",
            "Train Epoch: 5 [29440/60000 (49%)]\tLoss: 0.291582\n",
            "Train Epoch: 5 [30080/60000 (50%)]\tLoss: 0.151006\n",
            "Train Epoch: 5 [30720/60000 (51%)]\tLoss: 0.170671\n",
            "Train Epoch: 5 [31360/60000 (52%)]\tLoss: 0.399978\n",
            "Train Epoch: 5 [32000/60000 (53%)]\tLoss: 0.271057\n",
            "Train Epoch: 5 [32640/60000 (54%)]\tLoss: 0.262457\n",
            "Train Epoch: 5 [33280/60000 (55%)]\tLoss: 0.176991\n",
            "Train Epoch: 5 [33920/60000 (57%)]\tLoss: 0.221143\n",
            "Train Epoch: 5 [34560/60000 (58%)]\tLoss: 0.132721\n",
            "Train Epoch: 5 [35200/60000 (59%)]\tLoss: 0.171150\n",
            "Train Epoch: 5 [35840/60000 (60%)]\tLoss: 0.230380\n",
            "Train Epoch: 5 [36480/60000 (61%)]\tLoss: 0.068618\n",
            "Train Epoch: 5 [37120/60000 (62%)]\tLoss: 0.116457\n",
            "Train Epoch: 5 [37760/60000 (63%)]\tLoss: 0.149342\n",
            "Train Epoch: 5 [38400/60000 (64%)]\tLoss: 0.185808\n",
            "Train Epoch: 5 [39040/60000 (65%)]\tLoss: 0.596397\n",
            "Train Epoch: 5 [39680/60000 (66%)]\tLoss: 0.236740\n",
            "Train Epoch: 5 [40320/60000 (67%)]\tLoss: 0.146329\n",
            "Train Epoch: 5 [40960/60000 (68%)]\tLoss: 0.180518\n",
            "Train Epoch: 5 [41600/60000 (69%)]\tLoss: 0.205656\n",
            "Train Epoch: 5 [42240/60000 (70%)]\tLoss: 0.219500\n",
            "Train Epoch: 5 [42880/60000 (71%)]\tLoss: 0.250195\n",
            "Train Epoch: 5 [43520/60000 (72%)]\tLoss: 0.298922\n",
            "Train Epoch: 5 [44160/60000 (74%)]\tLoss: 0.126892\n",
            "Train Epoch: 5 [44800/60000 (75%)]\tLoss: 0.425109\n",
            "Train Epoch: 5 [45440/60000 (76%)]\tLoss: 0.277028\n",
            "Train Epoch: 5 [46080/60000 (77%)]\tLoss: 0.229872\n",
            "Train Epoch: 5 [46720/60000 (78%)]\tLoss: 0.284799\n",
            "Train Epoch: 5 [47360/60000 (79%)]\tLoss: 0.183490\n",
            "Train Epoch: 5 [48000/60000 (80%)]\tLoss: 0.330372\n",
            "Train Epoch: 5 [48640/60000 (81%)]\tLoss: 0.247776\n",
            "Train Epoch: 5 [49280/60000 (82%)]\tLoss: 0.193602\n",
            "Train Epoch: 5 [49920/60000 (83%)]\tLoss: 0.378107\n",
            "Train Epoch: 5 [50560/60000 (84%)]\tLoss: 0.102031\n",
            "Train Epoch: 5 [51200/60000 (85%)]\tLoss: 0.355549\n",
            "Train Epoch: 5 [51840/60000 (86%)]\tLoss: 0.164935\n",
            "Train Epoch: 5 [52480/60000 (87%)]\tLoss: 0.302989\n",
            "Train Epoch: 5 [53120/60000 (88%)]\tLoss: 0.105524\n",
            "Train Epoch: 5 [53760/60000 (90%)]\tLoss: 0.146882\n",
            "Train Epoch: 5 [54400/60000 (91%)]\tLoss: 0.126787\n",
            "Train Epoch: 5 [55040/60000 (92%)]\tLoss: 0.287225\n",
            "Train Epoch: 5 [55680/60000 (93%)]\tLoss: 0.149418\n",
            "Train Epoch: 5 [56320/60000 (94%)]\tLoss: 0.176612\n",
            "Train Epoch: 5 [56960/60000 (95%)]\tLoss: 0.329382\n",
            "Train Epoch: 5 [57600/60000 (96%)]\tLoss: 0.306287\n",
            "Train Epoch: 5 [58240/60000 (97%)]\tLoss: 0.200720\n",
            "Train Epoch: 5 [58880/60000 (98%)]\tLoss: 0.145797\n",
            "Train Epoch: 5 [59520/60000 (99%)]\tLoss: 0.123666\n",
            "\n",
            "Test set: Avg. loss: 0.0717, Accuracy: 9779/10000 (98%)\n",
            "\n",
            "Train Epoch: 6 [0/60000 (0%)]\tLoss: 0.309218\n",
            "Train Epoch: 6 [640/60000 (1%)]\tLoss: 0.364866\n",
            "Train Epoch: 6 [1280/60000 (2%)]\tLoss: 0.307119\n",
            "Train Epoch: 6 [1920/60000 (3%)]\tLoss: 0.137591\n",
            "Train Epoch: 6 [2560/60000 (4%)]\tLoss: 0.171008\n",
            "Train Epoch: 6 [3200/60000 (5%)]\tLoss: 0.259427\n",
            "Train Epoch: 6 [3840/60000 (6%)]\tLoss: 0.244645\n",
            "Train Epoch: 6 [4480/60000 (7%)]\tLoss: 0.303232\n",
            "Train Epoch: 6 [5120/60000 (9%)]\tLoss: 0.150008\n",
            "Train Epoch: 6 [5760/60000 (10%)]\tLoss: 0.220642\n",
            "Train Epoch: 6 [6400/60000 (11%)]\tLoss: 0.277235\n",
            "Train Epoch: 6 [7040/60000 (12%)]\tLoss: 0.275371\n",
            "Train Epoch: 6 [7680/60000 (13%)]\tLoss: 0.273299\n",
            "Train Epoch: 6 [8320/60000 (14%)]\tLoss: 0.157831\n",
            "Train Epoch: 6 [8960/60000 (15%)]\tLoss: 0.181519\n",
            "Train Epoch: 6 [9600/60000 (16%)]\tLoss: 0.284365\n",
            "Train Epoch: 6 [10240/60000 (17%)]\tLoss: 0.251781\n",
            "Train Epoch: 6 [10880/60000 (18%)]\tLoss: 0.189071\n",
            "Train Epoch: 6 [11520/60000 (19%)]\tLoss: 0.257620\n",
            "Train Epoch: 6 [12160/60000 (20%)]\tLoss: 0.158716\n",
            "Train Epoch: 6 [12800/60000 (21%)]\tLoss: 0.248020\n",
            "Train Epoch: 6 [13440/60000 (22%)]\tLoss: 0.205311\n",
            "Train Epoch: 6 [14080/60000 (23%)]\tLoss: 0.106139\n",
            "Train Epoch: 6 [14720/60000 (25%)]\tLoss: 0.223029\n",
            "Train Epoch: 6 [15360/60000 (26%)]\tLoss: 0.117546\n",
            "Train Epoch: 6 [16000/60000 (27%)]\tLoss: 0.236118\n",
            "Train Epoch: 6 [16640/60000 (28%)]\tLoss: 0.244980\n",
            "Train Epoch: 6 [17280/60000 (29%)]\tLoss: 0.355873\n",
            "Train Epoch: 6 [17920/60000 (30%)]\tLoss: 0.106554\n",
            "Train Epoch: 6 [18560/60000 (31%)]\tLoss: 0.471550\n",
            "Train Epoch: 6 [19200/60000 (32%)]\tLoss: 0.454727\n",
            "Train Epoch: 6 [19840/60000 (33%)]\tLoss: 0.205841\n",
            "Train Epoch: 6 [20480/60000 (34%)]\tLoss: 0.212643\n",
            "Train Epoch: 6 [21120/60000 (35%)]\tLoss: 0.178456\n",
            "Train Epoch: 6 [21760/60000 (36%)]\tLoss: 0.323169\n",
            "Train Epoch: 6 [22400/60000 (37%)]\tLoss: 0.305196\n",
            "Train Epoch: 6 [23040/60000 (38%)]\tLoss: 0.291232\n",
            "Train Epoch: 6 [23680/60000 (39%)]\tLoss: 0.043412\n",
            "Train Epoch: 6 [24320/60000 (41%)]\tLoss: 0.246490\n",
            "Train Epoch: 6 [24960/60000 (42%)]\tLoss: 0.169245\n",
            "Train Epoch: 6 [25600/60000 (43%)]\tLoss: 0.429474\n",
            "Train Epoch: 6 [26240/60000 (44%)]\tLoss: 0.242843\n",
            "Train Epoch: 6 [26880/60000 (45%)]\tLoss: 0.441083\n",
            "Train Epoch: 6 [27520/60000 (46%)]\tLoss: 0.178805\n",
            "Train Epoch: 6 [28160/60000 (47%)]\tLoss: 0.177812\n",
            "Train Epoch: 6 [28800/60000 (48%)]\tLoss: 0.359554\n",
            "Train Epoch: 6 [29440/60000 (49%)]\tLoss: 0.245776\n",
            "Train Epoch: 6 [30080/60000 (50%)]\tLoss: 0.246259\n",
            "Train Epoch: 6 [30720/60000 (51%)]\tLoss: 0.093168\n",
            "Train Epoch: 6 [31360/60000 (52%)]\tLoss: 0.389202\n",
            "Train Epoch: 6 [32000/60000 (53%)]\tLoss: 0.164240\n",
            "Train Epoch: 6 [32640/60000 (54%)]\tLoss: 0.271734\n",
            "Train Epoch: 6 [33280/60000 (55%)]\tLoss: 0.155813\n",
            "Train Epoch: 6 [33920/60000 (57%)]\tLoss: 0.192010\n",
            "Train Epoch: 6 [34560/60000 (58%)]\tLoss: 0.323303\n",
            "Train Epoch: 6 [35200/60000 (59%)]\tLoss: 0.169710\n",
            "Train Epoch: 6 [35840/60000 (60%)]\tLoss: 0.198338\n",
            "Train Epoch: 6 [36480/60000 (61%)]\tLoss: 0.156271\n",
            "Train Epoch: 6 [37120/60000 (62%)]\tLoss: 0.145606\n",
            "Train Epoch: 6 [37760/60000 (63%)]\tLoss: 0.381949\n",
            "Train Epoch: 6 [38400/60000 (64%)]\tLoss: 0.115197\n",
            "Train Epoch: 6 [39040/60000 (65%)]\tLoss: 0.098754\n",
            "Train Epoch: 6 [39680/60000 (66%)]\tLoss: 0.236801\n",
            "Train Epoch: 6 [40320/60000 (67%)]\tLoss: 0.116233\n",
            "Train Epoch: 6 [40960/60000 (68%)]\tLoss: 0.211750\n",
            "Train Epoch: 6 [41600/60000 (69%)]\tLoss: 0.153908\n",
            "Train Epoch: 6 [42240/60000 (70%)]\tLoss: 0.395479\n",
            "Train Epoch: 6 [42880/60000 (71%)]\tLoss: 0.234449\n",
            "Train Epoch: 6 [43520/60000 (72%)]\tLoss: 0.159703\n",
            "Train Epoch: 6 [44160/60000 (74%)]\tLoss: 0.118944\n",
            "Train Epoch: 6 [44800/60000 (75%)]\tLoss: 0.165960\n",
            "Train Epoch: 6 [45440/60000 (76%)]\tLoss: 0.291142\n",
            "Train Epoch: 6 [46080/60000 (77%)]\tLoss: 0.217838\n",
            "Train Epoch: 6 [46720/60000 (78%)]\tLoss: 0.212160\n",
            "Train Epoch: 6 [47360/60000 (79%)]\tLoss: 0.153694\n",
            "Train Epoch: 6 [48000/60000 (80%)]\tLoss: 0.153720\n",
            "Train Epoch: 6 [48640/60000 (81%)]\tLoss: 0.166054\n",
            "Train Epoch: 6 [49280/60000 (82%)]\tLoss: 0.059112\n",
            "Train Epoch: 6 [49920/60000 (83%)]\tLoss: 0.141865\n",
            "Train Epoch: 6 [50560/60000 (84%)]\tLoss: 0.202025\n",
            "Train Epoch: 6 [51200/60000 (85%)]\tLoss: 0.107617\n",
            "Train Epoch: 6 [51840/60000 (86%)]\tLoss: 0.152846\n",
            "Train Epoch: 6 [52480/60000 (87%)]\tLoss: 0.333454\n",
            "Train Epoch: 6 [53120/60000 (88%)]\tLoss: 0.197536\n",
            "Train Epoch: 6 [53760/60000 (90%)]\tLoss: 0.304992\n",
            "Train Epoch: 6 [54400/60000 (91%)]\tLoss: 0.147731\n",
            "Train Epoch: 6 [55040/60000 (92%)]\tLoss: 0.324559\n",
            "Train Epoch: 6 [55680/60000 (93%)]\tLoss: 0.163035\n",
            "Train Epoch: 6 [56320/60000 (94%)]\tLoss: 0.342761\n",
            "Train Epoch: 6 [56960/60000 (95%)]\tLoss: 0.432408\n",
            "Train Epoch: 6 [57600/60000 (96%)]\tLoss: 0.228862\n",
            "Train Epoch: 6 [58240/60000 (97%)]\tLoss: 0.125464\n",
            "Train Epoch: 6 [58880/60000 (98%)]\tLoss: 0.149376\n",
            "Train Epoch: 6 [59520/60000 (99%)]\tLoss: 0.145380\n",
            "\n",
            "Test set: Avg. loss: 0.0674, Accuracy: 9777/10000 (98%)\n",
            "\n",
            "Train Epoch: 7 [0/60000 (0%)]\tLoss: 0.368888\n",
            "Train Epoch: 7 [640/60000 (1%)]\tLoss: 0.254732\n",
            "Train Epoch: 7 [1280/60000 (2%)]\tLoss: 0.463535\n",
            "Train Epoch: 7 [1920/60000 (3%)]\tLoss: 0.217663\n",
            "Train Epoch: 7 [2560/60000 (4%)]\tLoss: 0.105404\n",
            "Train Epoch: 7 [3200/60000 (5%)]\tLoss: 0.146099\n",
            "Train Epoch: 7 [3840/60000 (6%)]\tLoss: 0.158421\n",
            "Train Epoch: 7 [4480/60000 (7%)]\tLoss: 0.101180\n",
            "Train Epoch: 7 [5120/60000 (9%)]\tLoss: 0.167741\n",
            "Train Epoch: 7 [5760/60000 (10%)]\tLoss: 0.286432\n",
            "Train Epoch: 7 [6400/60000 (11%)]\tLoss: 0.242370\n",
            "Train Epoch: 7 [7040/60000 (12%)]\tLoss: 0.247583\n",
            "Train Epoch: 7 [7680/60000 (13%)]\tLoss: 0.151128\n",
            "Train Epoch: 7 [8320/60000 (14%)]\tLoss: 0.289273\n",
            "Train Epoch: 7 [8960/60000 (15%)]\tLoss: 0.170252\n",
            "Train Epoch: 7 [9600/60000 (16%)]\tLoss: 0.310753\n",
            "Train Epoch: 7 [10240/60000 (17%)]\tLoss: 0.179291\n",
            "Train Epoch: 7 [10880/60000 (18%)]\tLoss: 0.449977\n",
            "Train Epoch: 7 [11520/60000 (19%)]\tLoss: 0.335155\n",
            "Train Epoch: 7 [12160/60000 (20%)]\tLoss: 0.129697\n",
            "Train Epoch: 7 [12800/60000 (21%)]\tLoss: 0.166635\n",
            "Train Epoch: 7 [13440/60000 (22%)]\tLoss: 0.098534\n",
            "Train Epoch: 7 [14080/60000 (23%)]\tLoss: 0.084090\n",
            "Train Epoch: 7 [14720/60000 (25%)]\tLoss: 0.286687\n",
            "Train Epoch: 7 [15360/60000 (26%)]\tLoss: 0.137130\n",
            "Train Epoch: 7 [16000/60000 (27%)]\tLoss: 0.132758\n",
            "Train Epoch: 7 [16640/60000 (28%)]\tLoss: 0.099514\n",
            "Train Epoch: 7 [17280/60000 (29%)]\tLoss: 0.102583\n",
            "Train Epoch: 7 [17920/60000 (30%)]\tLoss: 0.131095\n",
            "Train Epoch: 7 [18560/60000 (31%)]\tLoss: 0.129787\n",
            "Train Epoch: 7 [19200/60000 (32%)]\tLoss: 0.237267\n",
            "Train Epoch: 7 [19840/60000 (33%)]\tLoss: 0.231779\n",
            "Train Epoch: 7 [20480/60000 (34%)]\tLoss: 0.141497\n",
            "Train Epoch: 7 [21120/60000 (35%)]\tLoss: 0.292037\n",
            "Train Epoch: 7 [21760/60000 (36%)]\tLoss: 0.118372\n",
            "Train Epoch: 7 [22400/60000 (37%)]\tLoss: 0.123705\n",
            "Train Epoch: 7 [23040/60000 (38%)]\tLoss: 0.268824\n",
            "Train Epoch: 7 [23680/60000 (39%)]\tLoss: 0.431066\n",
            "Train Epoch: 7 [24320/60000 (41%)]\tLoss: 0.208360\n",
            "Train Epoch: 7 [24960/60000 (42%)]\tLoss: 0.356528\n",
            "Train Epoch: 7 [25600/60000 (43%)]\tLoss: 0.203984\n",
            "Train Epoch: 7 [26240/60000 (44%)]\tLoss: 0.114513\n",
            "Train Epoch: 7 [26880/60000 (45%)]\tLoss: 0.276328\n",
            "Train Epoch: 7 [27520/60000 (46%)]\tLoss: 0.185950\n",
            "Train Epoch: 7 [28160/60000 (47%)]\tLoss: 0.360190\n",
            "Train Epoch: 7 [28800/60000 (48%)]\tLoss: 0.298336\n",
            "Train Epoch: 7 [29440/60000 (49%)]\tLoss: 0.164669\n",
            "Train Epoch: 7 [30080/60000 (50%)]\tLoss: 0.043693\n",
            "Train Epoch: 7 [30720/60000 (51%)]\tLoss: 0.140253\n",
            "Train Epoch: 7 [31360/60000 (52%)]\tLoss: 0.176760\n",
            "Train Epoch: 7 [32000/60000 (53%)]\tLoss: 0.243543\n",
            "Train Epoch: 7 [32640/60000 (54%)]\tLoss: 0.197127\n",
            "Train Epoch: 7 [33280/60000 (55%)]\tLoss: 0.137922\n",
            "Train Epoch: 7 [33920/60000 (57%)]\tLoss: 0.226540\n",
            "Train Epoch: 7 [34560/60000 (58%)]\tLoss: 0.184503\n",
            "Train Epoch: 7 [35200/60000 (59%)]\tLoss: 0.192294\n",
            "Train Epoch: 7 [35840/60000 (60%)]\tLoss: 0.275338\n",
            "Train Epoch: 7 [36480/60000 (61%)]\tLoss: 0.135306\n",
            "Train Epoch: 7 [37120/60000 (62%)]\tLoss: 0.134101\n",
            "Train Epoch: 7 [37760/60000 (63%)]\tLoss: 0.152028\n",
            "Train Epoch: 7 [38400/60000 (64%)]\tLoss: 0.236597\n",
            "Train Epoch: 7 [39040/60000 (65%)]\tLoss: 0.204145\n",
            "Train Epoch: 7 [39680/60000 (66%)]\tLoss: 0.208271\n",
            "Train Epoch: 7 [40320/60000 (67%)]\tLoss: 0.313533\n",
            "Train Epoch: 7 [40960/60000 (68%)]\tLoss: 0.338226\n",
            "Train Epoch: 7 [41600/60000 (69%)]\tLoss: 0.176582\n",
            "Train Epoch: 7 [42240/60000 (70%)]\tLoss: 0.201917\n",
            "Train Epoch: 7 [42880/60000 (71%)]\tLoss: 0.204933\n",
            "Train Epoch: 7 [43520/60000 (72%)]\tLoss: 0.194214\n",
            "Train Epoch: 7 [44160/60000 (74%)]\tLoss: 0.357885\n",
            "Train Epoch: 7 [44800/60000 (75%)]\tLoss: 0.178967\n",
            "Train Epoch: 7 [45440/60000 (76%)]\tLoss: 0.269625\n",
            "Train Epoch: 7 [46080/60000 (77%)]\tLoss: 0.146520\n",
            "Train Epoch: 7 [46720/60000 (78%)]\tLoss: 0.191257\n",
            "Train Epoch: 7 [47360/60000 (79%)]\tLoss: 0.224444\n",
            "Train Epoch: 7 [48000/60000 (80%)]\tLoss: 0.146415\n",
            "Train Epoch: 7 [48640/60000 (81%)]\tLoss: 0.231793\n",
            "Train Epoch: 7 [49280/60000 (82%)]\tLoss: 0.111576\n",
            "Train Epoch: 7 [49920/60000 (83%)]\tLoss: 0.046448\n",
            "Train Epoch: 7 [50560/60000 (84%)]\tLoss: 0.153614\n",
            "Train Epoch: 7 [51200/60000 (85%)]\tLoss: 0.235677\n",
            "Train Epoch: 7 [51840/60000 (86%)]\tLoss: 0.128013\n",
            "Train Epoch: 7 [52480/60000 (87%)]\tLoss: 0.192450\n",
            "Train Epoch: 7 [53120/60000 (88%)]\tLoss: 0.062209\n",
            "Train Epoch: 7 [53760/60000 (90%)]\tLoss: 0.160835\n",
            "Train Epoch: 7 [54400/60000 (91%)]\tLoss: 0.198598\n",
            "Train Epoch: 7 [55040/60000 (92%)]\tLoss: 0.255754\n",
            "Train Epoch: 7 [55680/60000 (93%)]\tLoss: 0.253299\n",
            "Train Epoch: 7 [56320/60000 (94%)]\tLoss: 0.416985\n",
            "Train Epoch: 7 [56960/60000 (95%)]\tLoss: 0.177223\n",
            "Train Epoch: 7 [57600/60000 (96%)]\tLoss: 0.254991\n",
            "Train Epoch: 7 [58240/60000 (97%)]\tLoss: 0.104301\n",
            "Train Epoch: 7 [58880/60000 (98%)]\tLoss: 0.060054\n",
            "Train Epoch: 7 [59520/60000 (99%)]\tLoss: 0.251599\n",
            "\n",
            "Test set: Avg. loss: 0.0626, Accuracy: 9801/10000 (98%)\n",
            "\n",
            "Train Epoch: 8 [0/60000 (0%)]\tLoss: 0.194188\n",
            "Train Epoch: 8 [640/60000 (1%)]\tLoss: 0.161565\n",
            "Train Epoch: 8 [1280/60000 (2%)]\tLoss: 0.175435\n",
            "Train Epoch: 8 [1920/60000 (3%)]\tLoss: 0.157475\n",
            "Train Epoch: 8 [2560/60000 (4%)]\tLoss: 0.244207\n",
            "Train Epoch: 8 [3200/60000 (5%)]\tLoss: 0.110036\n",
            "Train Epoch: 8 [3840/60000 (6%)]\tLoss: 0.094306\n",
            "Train Epoch: 8 [4480/60000 (7%)]\tLoss: 0.139272\n",
            "Train Epoch: 8 [5120/60000 (9%)]\tLoss: 0.226047\n",
            "Train Epoch: 8 [5760/60000 (10%)]\tLoss: 0.167332\n",
            "Train Epoch: 8 [6400/60000 (11%)]\tLoss: 0.124474\n",
            "Train Epoch: 8 [7040/60000 (12%)]\tLoss: 0.374094\n",
            "Train Epoch: 8 [7680/60000 (13%)]\tLoss: 0.291042\n",
            "Train Epoch: 8 [8320/60000 (14%)]\tLoss: 0.343373\n",
            "Train Epoch: 8 [8960/60000 (15%)]\tLoss: 0.265121\n",
            "Train Epoch: 8 [9600/60000 (16%)]\tLoss: 0.117670\n",
            "Train Epoch: 8 [10240/60000 (17%)]\tLoss: 0.119516\n",
            "Train Epoch: 8 [10880/60000 (18%)]\tLoss: 0.254180\n",
            "Train Epoch: 8 [11520/60000 (19%)]\tLoss: 0.228014\n",
            "Train Epoch: 8 [12160/60000 (20%)]\tLoss: 0.189644\n",
            "Train Epoch: 8 [12800/60000 (21%)]\tLoss: 0.147509\n",
            "Train Epoch: 8 [13440/60000 (22%)]\tLoss: 0.174774\n",
            "Train Epoch: 8 [14080/60000 (23%)]\tLoss: 0.372435\n",
            "Train Epoch: 8 [14720/60000 (25%)]\tLoss: 0.587138\n",
            "Train Epoch: 8 [15360/60000 (26%)]\tLoss: 0.182581\n",
            "Train Epoch: 8 [16000/60000 (27%)]\tLoss: 0.316792\n",
            "Train Epoch: 8 [16640/60000 (28%)]\tLoss: 0.111410\n",
            "Train Epoch: 8 [17280/60000 (29%)]\tLoss: 0.152861\n",
            "Train Epoch: 8 [17920/60000 (30%)]\tLoss: 0.124782\n",
            "Train Epoch: 8 [18560/60000 (31%)]\tLoss: 0.203991\n",
            "Train Epoch: 8 [19200/60000 (32%)]\tLoss: 0.150301\n",
            "Train Epoch: 8 [19840/60000 (33%)]\tLoss: 0.161058\n",
            "Train Epoch: 8 [20480/60000 (34%)]\tLoss: 0.096970\n",
            "Train Epoch: 8 [21120/60000 (35%)]\tLoss: 0.258594\n",
            "Train Epoch: 8 [21760/60000 (36%)]\tLoss: 0.173209\n",
            "Train Epoch: 8 [22400/60000 (37%)]\tLoss: 0.154390\n",
            "Train Epoch: 8 [23040/60000 (38%)]\tLoss: 0.120910\n",
            "Train Epoch: 8 [23680/60000 (39%)]\tLoss: 0.141576\n",
            "Train Epoch: 8 [24320/60000 (41%)]\tLoss: 0.085971\n",
            "Train Epoch: 8 [24960/60000 (42%)]\tLoss: 0.237671\n",
            "Train Epoch: 8 [25600/60000 (43%)]\tLoss: 0.211787\n",
            "Train Epoch: 8 [26240/60000 (44%)]\tLoss: 0.189658\n",
            "Train Epoch: 8 [26880/60000 (45%)]\tLoss: 0.258776\n",
            "Train Epoch: 8 [27520/60000 (46%)]\tLoss: 0.252868\n",
            "Train Epoch: 8 [28160/60000 (47%)]\tLoss: 0.122397\n",
            "Train Epoch: 8 [28800/60000 (48%)]\tLoss: 0.112770\n",
            "Train Epoch: 8 [29440/60000 (49%)]\tLoss: 0.110388\n",
            "Train Epoch: 8 [30080/60000 (50%)]\tLoss: 0.149355\n",
            "Train Epoch: 8 [30720/60000 (51%)]\tLoss: 0.048681\n",
            "Train Epoch: 8 [31360/60000 (52%)]\tLoss: 0.260208\n",
            "Train Epoch: 8 [32000/60000 (53%)]\tLoss: 0.181236\n",
            "Train Epoch: 8 [32640/60000 (54%)]\tLoss: 0.108546\n",
            "Train Epoch: 8 [33280/60000 (55%)]\tLoss: 0.287349\n",
            "Train Epoch: 8 [33920/60000 (57%)]\tLoss: 0.204247\n",
            "Train Epoch: 8 [34560/60000 (58%)]\tLoss: 0.253573\n",
            "Train Epoch: 8 [35200/60000 (59%)]\tLoss: 0.170723\n",
            "Train Epoch: 8 [35840/60000 (60%)]\tLoss: 0.344263\n",
            "Train Epoch: 8 [36480/60000 (61%)]\tLoss: 0.134391\n",
            "Train Epoch: 8 [37120/60000 (62%)]\tLoss: 0.196804\n",
            "Train Epoch: 8 [37760/60000 (63%)]\tLoss: 0.184184\n",
            "Train Epoch: 8 [38400/60000 (64%)]\tLoss: 0.176682\n",
            "Train Epoch: 8 [39040/60000 (65%)]\tLoss: 0.215688\n",
            "Train Epoch: 8 [39680/60000 (66%)]\tLoss: 0.157317\n",
            "Train Epoch: 8 [40320/60000 (67%)]\tLoss: 0.179895\n",
            "Train Epoch: 8 [40960/60000 (68%)]\tLoss: 0.147411\n",
            "Train Epoch: 8 [41600/60000 (69%)]\tLoss: 0.259642\n",
            "Train Epoch: 8 [42240/60000 (70%)]\tLoss: 0.278915\n",
            "Train Epoch: 8 [42880/60000 (71%)]\tLoss: 0.213741\n",
            "Train Epoch: 8 [43520/60000 (72%)]\tLoss: 0.206074\n",
            "Train Epoch: 8 [44160/60000 (74%)]\tLoss: 0.144366\n",
            "Train Epoch: 8 [44800/60000 (75%)]\tLoss: 0.377836\n",
            "Train Epoch: 8 [45440/60000 (76%)]\tLoss: 0.132109\n",
            "Train Epoch: 8 [46080/60000 (77%)]\tLoss: 0.136485\n",
            "Train Epoch: 8 [46720/60000 (78%)]\tLoss: 0.126201\n",
            "Train Epoch: 8 [47360/60000 (79%)]\tLoss: 0.134232\n",
            "Train Epoch: 8 [48000/60000 (80%)]\tLoss: 0.144357\n",
            "Train Epoch: 8 [48640/60000 (81%)]\tLoss: 0.130918\n",
            "Train Epoch: 8 [49280/60000 (82%)]\tLoss: 0.171391\n",
            "Train Epoch: 8 [49920/60000 (83%)]\tLoss: 0.334089\n",
            "Train Epoch: 8 [50560/60000 (84%)]\tLoss: 0.133133\n",
            "Train Epoch: 8 [51200/60000 (85%)]\tLoss: 0.097993\n",
            "Train Epoch: 8 [51840/60000 (86%)]\tLoss: 0.305740\n",
            "Train Epoch: 8 [52480/60000 (87%)]\tLoss: 0.146605\n",
            "Train Epoch: 8 [53120/60000 (88%)]\tLoss: 0.103754\n",
            "Train Epoch: 8 [53760/60000 (90%)]\tLoss: 0.253703\n",
            "Train Epoch: 8 [54400/60000 (91%)]\tLoss: 0.448506\n",
            "Train Epoch: 8 [55040/60000 (92%)]\tLoss: 0.060212\n",
            "Train Epoch: 8 [55680/60000 (93%)]\tLoss: 0.149718\n",
            "Train Epoch: 8 [56320/60000 (94%)]\tLoss: 0.090658\n",
            "Train Epoch: 8 [56960/60000 (95%)]\tLoss: 0.187347\n",
            "Train Epoch: 8 [57600/60000 (96%)]\tLoss: 0.183006\n",
            "Train Epoch: 8 [58240/60000 (97%)]\tLoss: 0.260770\n",
            "Train Epoch: 8 [58880/60000 (98%)]\tLoss: 0.073561\n",
            "Train Epoch: 8 [59520/60000 (99%)]\tLoss: 0.382324\n",
            "\n",
            "Test set: Avg. loss: 0.0565, Accuracy: 9814/10000 (98%)\n",
            "\n"
          ]
        }
      ]
    },
    {
      "cell_type": "code",
      "source": [
        "fig = plt.figure()\n",
        "plt.plot(train_counter, train_losses, color='blue')\n",
        "plt.scatter(test_counter, test_losses, color='red')\n",
        "plt.legend(['Train Loss', 'Test Loss'], loc='upper right')\n",
        "plt.xlabel('number of training examples seen')\n",
        "plt.ylabel('negative log likelihood loss')\n",
        "fig"
      ],
      "metadata": {
        "colab": {
          "base_uri": "https://localhost:8080/",
          "height": 881
        },
        "id": "yUnFQ9RiSp44",
        "outputId": "a08ae6ea-b02f-4c8d-b53d-5bd9e377199d"
      },
      "execution_count": 21,
      "outputs": [
        {
          "output_type": "execute_result",
          "data": {
            "text/plain": [
              "<Figure size 640x480 with 1 Axes>"
            ],
            "image/png": "[encoded data removed]"
          },
          "metadata": {},
          "execution_count": 21
        },
        {
          "output_type": "display_data",
          "data": {
            "text/plain": [
              "<Figure size 640x480 with 1 Axes>"
            ],
            "image/png": "[encoded data removed]"
          },
          "metadata": {}
        }
      ]
    },
    {
      "cell_type": "markdown",
      "source": [
        "## Step 13: Getting the model ready to predict the handwritten digits."
      ],
      "metadata": {
        "id": "XOAd8K7bo_ij"
      }
    },
    {
      "cell_type": "code",
      "source": [
        "from PIL import Image\n",
        "import matplotlib.pyplot as plt\n",
        "from google.colab import files\n",
        "import io\n",
        "import torchvision.transforms as transforms"
      ],
      "metadata": {
        "id": "qs6VmSsoSsh6"
      },
      "execution_count": 22,
      "outputs": []
    },
    {
      "cell_type": "code",
      "source": [
        "def upload_and_process_image():\n",
        "    uploaded = files.upload()\n",
        "    image_name = next(iter(uploaded))\n",
        "    image = Image.open(io.BytesIO(uploaded[image_name])).convert('L')  # Convert to grayscale\n",
        "    transform = transforms.Compose([\n",
        "        transforms.Resize((28, 28)),  # MNIST images are 28x28\n",
        "        transforms.ToTensor(),\n",
        "        transforms.Normalize((0.1307,), (0.3081,))  # MNIST normalization\n",
        "    ])\n",
        "    return transform(image).unsqueeze(0), image_name"
      ],
      "metadata": {
        "id": "4koE6mMDTtWa"
      },
      "execution_count": 23,
      "outputs": []
    },
    {
      "cell_type": "code",
      "source": [
        "def predict_digit(model, image):\n",
        "    with torch.no_grad():\n",
        "        output = model(image)\n",
        "        prediction = output.argmax(dim=1, keepdim=True)\n",
        "    return prediction.item()"
      ],
      "metadata": {
        "id": "f98NnqD8TxKx"
      },
      "execution_count": 24,
      "outputs": []
    },
    {
      "cell_type": "code",
      "source": [
        "def upload_and_process_image():\n",
        "    uploaded = files.upload()\n",
        "    image_name = next(iter(uploaded))\n",
        "    image = Image.open(io.BytesIO(uploaded[image_name])).convert('L')  # Convert to grayscale\n",
        "    transform = transforms.Compose([\n",
        "        transforms.Resize((28, 28)),  # MNIST images are 28x28\n",
        "        transforms.ToTensor(),\n",
        "        transforms.Normalize((0.1307,), (0.3081,))  # MNIST normalization\n",
        "    ])\n",
        "    return transform(image).unsqueeze(0), image_name, uploaded # Return the uploaded data as well\n",
        "\n",
        "def main():\n",
        "    # Upload and process the image\n",
        "    processed_image, image_name, uploaded_data = upload_and_process_image() # Unpack the three returned values\n",
        "\n",
        "    network.eval()\n",
        "\n",
        "    # Make prediction\n",
        "    predicted_digit = predict_digit(network, processed_image)\n",
        "\n",
        "    # Display results\n",
        "    plt.figure(figsize=(8, 4))\n",
        "    plt.subplot(1, 2, 1)\n",
        "    plt.imshow(processed_image.squeeze(), cmap='gray')\n",
        "    plt.title(f'Processed Image')\n",
        "    plt.axis('off')\n",
        "\n",
        "    plt.subplot(1, 2, 2)\n",
        "    plt.imshow(Image.open(io.BytesIO(uploaded_data[image_name])))\n",
        "    plt.title(f'Original Image\\nPredicted Digit: {predicted_digit}')\n",
        "    plt.axis('off')\n",
        "\n",
        "    plt.show()\n",
        "\n",
        "    print(f'The model predicts the digit in {image_name} is: {predicted_digit}')\n",
        "\n",
        "# Run the main function\n",
        "main()"
      ],
      "metadata": {
        "colab": {
          "base_uri": "https://localhost:8080/",
          "height": 469
        },
        "id": "o4xyvB6wT5JY",
        "outputId": "63c08224-b890-4cd6-d744-a59fc9fa9168"
      },
      "execution_count": 25,
      "outputs": [
        {
          "output_type": "display_data",
          "data": {
            "text/plain": [
              "<IPython.core.display.HTML object>"
            ],
            "text/html": [
              "\n",
              "     <input type=\"file\" id=\"files-ae487e7c-1432-4e59-a69c-a37f5d8f33c2\" name=\"files[]\" multiple disabled\n",
              "        style=\"border:none\" />\n",
              "     <output id=\"result-ae487e7c-1432-4e59-a69c-a37f5d8f33c2\">\n",
              "      Upload widget is only available when the cell has been executed in the\n",
              "      current browser session. Please rerun this cell to enable.\n",
              "      </output>\n",
              "      <script>// Copyright 2017 Google LLC\n",
              "//\n",
              "// Licensed under the Apache License, Version 2.0 (the \"License\");\n",
              "// you may not use this file except in compliance with the License.\n",
              "// You may obtain a copy of the License at\n",
              "//\n",
              "//      http://www.apache.org/licenses/LICENSE-2.0\n",
              "//\n",
              "// Unless required by applicable law or agreed to in writing, software\n",
              "// distributed under the License is distributed on an \"AS IS\" BASIS,\n",
              "// WITHOUT WARRANTIES OR CONDITIONS OF ANY KIND, either express or implied.\n",
              "// See the License for the specific language governing permissions and\n",
              "// limitations under the License.\n",
              "\n",
              "/**\n",
              " * @fileoverview Helpers for google.colab Python module.\n",
              " */\n",
              "(function(scope) {\n",
              "function span(text, styleAttributes = {}) {\n",
              "  const element = document.createElement('span');\n",
              "  element.textContent = text;\n",
              "  for (const key of Object.keys(styleAttributes)) {\n",
              "    element.style[key] = styleAttributes[key];\n",
              "  }\n",
              "  return element;\n",
              "}\n",
              "\n",
              "// Max number of bytes which will be uploaded at a time.\n",
              "const MAX_PAYLOAD_SIZE = 100 * 1024;\n",
              "\n",
              "function _uploadFiles(inputId, outputId) {\n",
              "  const steps = uploadFilesStep(inputId, outputId);\n",
              "  const outputElement = document.getElementById(outputId);\n",
              "  // Cache steps on the outputElement to make it available for the next call\n",
              "  // to uploadFilesContinue from Python.\n",
              "  outputElement.steps = steps;\n",
              "\n",
              "  return _uploadFilesContinue(outputId);\n",
              "}\n",
              "\n",
              "// This is roughly an async generator (not supported in the browser yet),\n",
              "// where there are multiple asynchronous steps and the Python side is going\n",
              "// to poll for completion of each step.\n",
              "// This uses a Promise to block the python side on completion of each step,\n",
              "// then passes the result of the previous step as the input to the next step.\n",
              "function _uploadFilesContinue(outputId) {\n",
              "  const outputElement = document.getElementById(outputId);\n",
              "  const steps = outputElement.steps;\n",
              "\n",
              "  const next = steps.next(outputElement.lastPromiseValue);\n",
              "  return Promise.resolve(next.value.promise).then((value) => {\n",
              "    // Cache the last promise value to make it available to the next\n",
              "    // step of the generator.\n",
              "    outputElement.lastPromiseValue = value;\n",
              "    return next.value.response;\n",
              "  });\n",
              "}\n",
              "\n",
              "/**\n",
              " * Generator function which is called between each async step of the upload\n",
              " * process.\n",
              " * @param {string} inputId Element ID of the input file picker element.\n",
              " * @param {string} outputId Element ID of the output display.\n",
              " * @return {!Iterable<!Object>} Iterable of next steps.\n",
              " */\n",
              "function* uploadFilesStep(inputId, outputId) {\n",
              "  const inputElement = document.getElementById(inputId);\n",
              "  inputElement.disabled = false;\n",
              "\n",
              "  const outputElement = document.getElementById(outputId);\n",
              "  outputElement.innerHTML = '';\n",
              "\n",
              "  const pickedPromise = new Promise((resolve) => {\n",
              "    inputElement.addEventListener('change', (e) => {\n",
              "      resolve(e.target.files);\n",
              "    });\n",
              "  });\n",
              "\n",
              "  const cancel = document.createElement('button');\n",
              "  inputElement.parentElement.appendChild(cancel);\n",
              "  cancel.textContent = 'Cancel upload';\n",
              "  const cancelPromise = new Promise((resolve) => {\n",
              "    cancel.onclick = () => {\n",
              "      resolve(null);\n",
              "    };\n",
              "  });\n",
              "\n",
              "  // Wait for the user to pick the files.\n",
              "  const files = yield {\n",
              "    promise: Promise.race([pickedPromise, cancelPromise]),\n",
              "    response: {\n",
              "      action: 'starting',\n",
              "    }\n",
              "  };\n",
              "\n",
              "  cancel.remove();\n",
              "\n",
              "  // Disable the input element since further picks are not allowed.\n",
              "  inputElement.disabled = true;\n",
              "\n",
              "  if (!files) {\n",
              "    return {\n",
              "      response: {\n",
              "        action: 'complete',\n",
              "      }\n",
              "    };\n",
              "  }\n",
              "\n",
              "  for (const file of files) {\n",
              "    const li = document.createElement('li');\n",
              "    li.append(span(file.name, {fontWeight: 'bold'}));\n",
              "    li.append(span(\n",
              "        `(${file.type || 'n/a'}) - ${file.size} bytes, ` +\n",
              "        `last modified: ${\n",
              "            file.lastModifiedDate ? file.lastModifiedDate.toLocaleDateString() :\n",
              "                                    'n/a'} - `));\n",
              "    const percent = span('0% done');\n",
              "    li.appendChild(percent);\n",
              "\n",
              "    outputElement.appendChild(li);\n",
              "\n",
              "    const fileDataPromise = new Promise((resolve) => {\n",
              "      const reader = new FileReader();\n",
              "      reader.onload = (e) => {\n",
              "        resolve(e.target.result);\n",
              "      };\n",
              "      reader.readAsArrayBuffer(file);\n",
              "    });\n",
              "    // Wait for the data to be ready.\n",
              "    let fileData = yield {\n",
              "      promise: fileDataPromise,\n",
              "      response: {\n",
              "        action: 'continue',\n",
              "      }\n",
              "    };\n",
              "\n",
              "    // Use a chunked sending to avoid message size limits. See b/62115660.\n",
              "    let position = 0;\n",
              "    do {\n",
              "      const length = Math.min(fileData.byteLength - position, MAX_PAYLOAD_SIZE);\n",
              "      const chunk = new Uint8Array(fileData, position, length);\n",
              "      position += length;\n",
              "\n",
              "      const base64 = btoa(String.fromCharCode.apply(null, chunk));\n",
              "      yield {\n",
              "        response: {\n",
              "          action: 'append',\n",
              "          file: file.name,\n",
              "          data: base64,\n",
              "        },\n",
              "      };\n",
              "\n",
              "      let percentDone = fileData.byteLength === 0 ?\n",
              "          100 :\n",
              "          Math.round((position / fileData.byteLength) * 100);\n",
              "      percent.textContent = `${percentDone}% done`;\n",
              "\n",
              "    } while (position < fileData.byteLength);\n",
              "  }\n",
              "\n",
              "  // All done.\n",
              "  yield {\n",
              "    response: {\n",
              "      action: 'complete',\n",
              "    }\n",
              "  };\n",
              "}\n",
              "\n",
              "scope.google = scope.google || {};\n",
              "scope.google.colab = scope.google.colab || {};\n",
              "scope.google.colab._files = {\n",
              "  _uploadFiles,\n",
              "  _uploadFilesContinue,\n",
              "};\n",
              "})(self);\n",
              "</script> "
            ]
          },
          "metadata": {}
        },
        {
          "output_type": "stream",
          "name": "stdout",
          "text": [
            "Saving 6.png to 6.png\n"
          ]
        },
        {
          "output_type": "stream",
          "name": "stderr",
          "text": [
            "<ipython-input-9-6c2218f37724>:17: UserWarning: Implicit dimension choice for log_softmax has been deprecated. Change the call to include dim=X as an argument.\n",
            "  return F.log_softmax(x)\n"
          ]
        },
        {
          "output_type": "display_data",
          "data": {
            "text/plain": [
              "<Figure size 800x400 with 2 Axes>"
            ],
            "image/png": "[encoded data removed]"
          },
          "metadata": {}
        },
        {
          "output_type": "stream",
          "name": "stdout",
          "text": [
            "The model predicts the digit in 6.png is: 8\n"
          ]
        }
      ]
    },
    {
      "cell_type": "markdown",
      "source": [
        "This guide outlines the key steps taken in the notebook, from importing libraries to defining and training a neural network, visualizing data, and making predictions on uploaded images."
      ],
      "metadata": {
        "id": "STjwweU6pOiO"
      }
    }
  ],
  "metadata": {
    "accelerator": "GPU",
    "colab": {
      "gpuType": "T4",
      "provenance": []
    },
    "kernelspec": {
      "display_name": "Python 3",
      "name": "python3"
    },
    "language_info": {
      "name": "python"
    }
  },
  "nbformat": 4,
  "nbformat_minor": 0
}